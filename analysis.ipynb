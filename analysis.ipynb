{
 "cells": [
  {
   "cell_type": "code",
   "execution_count": 1,
   "metadata": {},
   "outputs": [],
   "source": [
    "import numpy as np\n",
    "import pandas as pd\n",
    "import matplotlib.pyplot as plt\n",
    "from mpl_toolkits.basemap import Basemap"
   ]
  },
  {
   "cell_type": "code",
   "execution_count": 2,
   "metadata": {},
   "outputs": [],
   "source": [
    "fname = \"outputKaggle.xlsx\"\n",
    "original = pd.read_excel(fname)"
   ]
  },
  {
   "cell_type": "code",
   "execution_count": 3,
   "metadata": {
    "scrolled": true
   },
   "outputs": [
    {
     "data": {
      "text/html": [
       "<div>\n",
       "<style scoped>\n",
       "    .dataframe tbody tr th:only-of-type {\n",
       "        vertical-align: middle;\n",
       "    }\n",
       "\n",
       "    .dataframe tbody tr th {\n",
       "        vertical-align: top;\n",
       "    }\n",
       "\n",
       "    .dataframe thead th {\n",
       "        text-align: right;\n",
       "    }\n",
       "</style>\n",
       "<table border=\"1\" class=\"dataframe\">\n",
       "  <thead>\n",
       "    <tr style=\"text-align: right;\">\n",
       "      <th></th>\n",
       "      <th>company</th>\n",
       "      <th>employmenttype_jobstatus</th>\n",
       "      <th>jobid</th>\n",
       "      <th>joblocation_address</th>\n",
       "      <th>jobtitle</th>\n",
       "      <th>shift</th>\n",
       "      <th>site_name</th>\n",
       "      <th>uniq_id</th>\n",
       "      <th>python</th>\n",
       "      <th>scala</th>\n",
       "      <th>...</th>\n",
       "      <th>perforce</th>\n",
       "      <th>maya</th>\n",
       "      <th>blockchain</th>\n",
       "      <th>rust</th>\n",
       "      <th>haskell</th>\n",
       "      <th>erlang</th>\n",
       "      <th>clojure</th>\n",
       "      <th>html5</th>\n",
       "      <th>YOE</th>\n",
       "      <th>Min Ed Level</th>\n",
       "    </tr>\n",
       "  </thead>\n",
       "  <tbody>\n",
       "    <tr>\n",
       "      <th>0</th>\n",
       "      <td>Digital Intelligence Systems, LLC</td>\n",
       "      <td>C2H Corp-To-Corp, C2H Independent, C2H W2, 3 M...</td>\n",
       "      <td>Dice Id : 10110693</td>\n",
       "      <td>Atlanta, GA</td>\n",
       "      <td>AUTOMATION TEST ENGINEER</td>\n",
       "      <td>Telecommuting not available|Travel not required</td>\n",
       "      <td>NaN</td>\n",
       "      <td>418ff92580b270ef4e7c14f0ddfc36b4</td>\n",
       "      <td>0</td>\n",
       "      <td>1</td>\n",
       "      <td>...</td>\n",
       "      <td>0</td>\n",
       "      <td>0</td>\n",
       "      <td>0</td>\n",
       "      <td>0</td>\n",
       "      <td>0</td>\n",
       "      <td>0</td>\n",
       "      <td>0</td>\n",
       "      <td>0</td>\n",
       "      <td>1.0</td>\n",
       "      <td>NaN</td>\n",
       "    </tr>\n",
       "    <tr>\n",
       "      <th>1</th>\n",
       "      <td>University of Chicago/IT Services</td>\n",
       "      <td>Full Time</td>\n",
       "      <td>Dice Id : 10114469</td>\n",
       "      <td>Chicago, IL</td>\n",
       "      <td>Information Security Engineer</td>\n",
       "      <td>Telecommuting not available|Travel not required</td>\n",
       "      <td>NaN</td>\n",
       "      <td>8aec88cba08d53da65ab99cf20f6f9d9</td>\n",
       "      <td>1</td>\n",
       "      <td>0</td>\n",
       "      <td>...</td>\n",
       "      <td>0</td>\n",
       "      <td>0</td>\n",
       "      <td>0</td>\n",
       "      <td>0</td>\n",
       "      <td>0</td>\n",
       "      <td>0</td>\n",
       "      <td>0</td>\n",
       "      <td>0</td>\n",
       "      <td>2.0</td>\n",
       "      <td>bachelor</td>\n",
       "    </tr>\n",
       "    <tr>\n",
       "      <th>2</th>\n",
       "      <td>Galaxy Systems, Inc.</td>\n",
       "      <td>Full Time</td>\n",
       "      <td>Dice Id : CXGALXYS</td>\n",
       "      <td>Schaumburg, IL</td>\n",
       "      <td>Business Solutions Architect</td>\n",
       "      <td>Telecommuting not available|Travel not required</td>\n",
       "      <td>NaN</td>\n",
       "      <td>46baa1f69ac07779274bcd90b85d9a72</td>\n",
       "      <td>0</td>\n",
       "      <td>0</td>\n",
       "      <td>...</td>\n",
       "      <td>0</td>\n",
       "      <td>0</td>\n",
       "      <td>0</td>\n",
       "      <td>0</td>\n",
       "      <td>0</td>\n",
       "      <td>0</td>\n",
       "      <td>0</td>\n",
       "      <td>0</td>\n",
       "      <td>5.0</td>\n",
       "      <td>NaN</td>\n",
       "    </tr>\n",
       "    <tr>\n",
       "      <th>3</th>\n",
       "      <td>TransTech LLC</td>\n",
       "      <td>Full Time</td>\n",
       "      <td>Dice Id : 10113627</td>\n",
       "      <td>Bolingbrook, IL</td>\n",
       "      <td>Java Developer (mid level)- FT- GREAT culture,...</td>\n",
       "      <td>Telecommuting not available|Travel not required</td>\n",
       "      <td>NaN</td>\n",
       "      <td>3941b2f206ae0f900c4fba4ac0b18719</td>\n",
       "      <td>0</td>\n",
       "      <td>0</td>\n",
       "      <td>...</td>\n",
       "      <td>0</td>\n",
       "      <td>0</td>\n",
       "      <td>0</td>\n",
       "      <td>0</td>\n",
       "      <td>0</td>\n",
       "      <td>0</td>\n",
       "      <td>0</td>\n",
       "      <td>0</td>\n",
       "      <td>2.0</td>\n",
       "      <td>bachelor</td>\n",
       "    </tr>\n",
       "    <tr>\n",
       "      <th>4</th>\n",
       "      <td>Matrix Resources</td>\n",
       "      <td>Full Time</td>\n",
       "      <td>Dice Id : matrixga</td>\n",
       "      <td>Atlanta, GA</td>\n",
       "      <td>DevOps Engineer</td>\n",
       "      <td>Telecommuting not available|Travel not required</td>\n",
       "      <td>NaN</td>\n",
       "      <td>45efa1f6bc65acc32bbbb953a1ed13b7</td>\n",
       "      <td>0</td>\n",
       "      <td>0</td>\n",
       "      <td>...</td>\n",
       "      <td>0</td>\n",
       "      <td>0</td>\n",
       "      <td>0</td>\n",
       "      <td>0</td>\n",
       "      <td>0</td>\n",
       "      <td>0</td>\n",
       "      <td>0</td>\n",
       "      <td>0</td>\n",
       "      <td>NaN</td>\n",
       "      <td>NaN</td>\n",
       "    </tr>\n",
       "  </tbody>\n",
       "</table>\n",
       "<p>5 rows × 139 columns</p>\n",
       "</div>"
      ],
      "text/plain": [
       "                             company  \\\n",
       "0  Digital Intelligence Systems, LLC   \n",
       "1  University of Chicago/IT Services   \n",
       "2               Galaxy Systems, Inc.   \n",
       "3                      TransTech LLC   \n",
       "4                   Matrix Resources   \n",
       "\n",
       "                            employmenttype_jobstatus               jobid  \\\n",
       "0  C2H Corp-To-Corp, C2H Independent, C2H W2, 3 M...  Dice Id : 10110693   \n",
       "1                                          Full Time  Dice Id : 10114469   \n",
       "2                                          Full Time  Dice Id : CXGALXYS   \n",
       "3                                          Full Time  Dice Id : 10113627   \n",
       "4                                          Full Time  Dice Id : matrixga   \n",
       "\n",
       "  joblocation_address                                           jobtitle  \\\n",
       "0         Atlanta, GA                           AUTOMATION TEST ENGINEER   \n",
       "1         Chicago, IL                      Information Security Engineer   \n",
       "2      Schaumburg, IL                       Business Solutions Architect   \n",
       "3     Bolingbrook, IL  Java Developer (mid level)- FT- GREAT culture,...   \n",
       "4         Atlanta, GA                                    DevOps Engineer   \n",
       "\n",
       "                                             shift site_name  \\\n",
       "0  Telecommuting not available|Travel not required       NaN   \n",
       "1  Telecommuting not available|Travel not required       NaN   \n",
       "2  Telecommuting not available|Travel not required       NaN   \n",
       "3  Telecommuting not available|Travel not required       NaN   \n",
       "4  Telecommuting not available|Travel not required       NaN   \n",
       "\n",
       "                            uniq_id  python  scala      ...       perforce  \\\n",
       "0  418ff92580b270ef4e7c14f0ddfc36b4       0      1      ...              0   \n",
       "1  8aec88cba08d53da65ab99cf20f6f9d9       1      0      ...              0   \n",
       "2  46baa1f69ac07779274bcd90b85d9a72       0      0      ...              0   \n",
       "3  3941b2f206ae0f900c4fba4ac0b18719       0      0      ...              0   \n",
       "4  45efa1f6bc65acc32bbbb953a1ed13b7       0      0      ...              0   \n",
       "\n",
       "   maya  blockchain  rust  haskell  erlang  clojure  html5  YOE  Min Ed Level  \n",
       "0     0           0     0        0       0        0      0  1.0           NaN  \n",
       "1     0           0     0        0       0        0      0  2.0      bachelor  \n",
       "2     0           0     0        0       0        0      0  5.0           NaN  \n",
       "3     0           0     0        0       0        0      0  2.0      bachelor  \n",
       "4     0           0     0        0       0        0      0  NaN           NaN  \n",
       "\n",
       "[5 rows x 139 columns]"
      ]
     },
     "execution_count": 3,
     "metadata": {},
     "output_type": "execute_result"
    }
   ],
   "source": [
    "original.head()"
   ]
  },
  {
   "cell_type": "code",
   "execution_count": 4,
   "metadata": {},
   "outputs": [],
   "source": [
    "def pre_clean(original):\n",
    "    df = original.drop(columns=['employmenttype_jobstatus', 'jobid', 'shift', 'site_name']).drop('Sum').set_index('uniq_id')\n",
    "    ids = df.index\n",
    "    state_list = list()\n",
    "    city_list = list()\n",
    "    for index in ids:\n",
    "        loc = df['joblocation_address'][index]\n",
    "        if pd.isna(loc):\n",
    "            df = df.drop(index)\n",
    "        else:\n",
    "            loc_split = loc.split(', ')\n",
    "            if len(loc_split) == 1:\n",
    "                df = df.drop(index)\n",
    "            else:\n",
    "                city = loc.split(', ')[0]\n",
    "                state = loc.split(', ')[1].upper()\n",
    "                if len(state) != 2:\n",
    "                    df = df.drop(index)\n",
    "                else:\n",
    "                    state_list.append(state)\n",
    "                    city_list.append(city)\n",
    "    df.insert(loc=2, column='city', value=city_list)\n",
    "    df.insert(loc=3, column='state', value=state_list)\n",
    "    df = df.drop(columns=['joblocation_address'])\n",
    "    return df"
   ]
  },
  {
   "cell_type": "code",
   "execution_count": 5,
   "metadata": {},
   "outputs": [],
   "source": [
    "df = pre_clean(original)"
   ]
  },
  {
   "cell_type": "code",
   "execution_count": 6,
   "metadata": {
    "scrolled": true
   },
   "outputs": [
    {
     "name": "stdout",
     "output_type": "stream",
     "text": [
      "(21924, 135)\n"
     ]
    },
    {
     "data": {
      "text/html": [
       "<div>\n",
       "<style scoped>\n",
       "    .dataframe tbody tr th:only-of-type {\n",
       "        vertical-align: middle;\n",
       "    }\n",
       "\n",
       "    .dataframe tbody tr th {\n",
       "        vertical-align: top;\n",
       "    }\n",
       "\n",
       "    .dataframe thead th {\n",
       "        text-align: right;\n",
       "    }\n",
       "</style>\n",
       "<table border=\"1\" class=\"dataframe\">\n",
       "  <thead>\n",
       "    <tr style=\"text-align: right;\">\n",
       "      <th></th>\n",
       "      <th>company</th>\n",
       "      <th>city</th>\n",
       "      <th>state</th>\n",
       "      <th>jobtitle</th>\n",
       "      <th>python</th>\n",
       "      <th>scala</th>\n",
       "      <th>.net</th>\n",
       "      <th>c#</th>\n",
       "      <th>matlab</th>\n",
       "      <th>simulink</th>\n",
       "      <th>...</th>\n",
       "      <th>perforce</th>\n",
       "      <th>maya</th>\n",
       "      <th>blockchain</th>\n",
       "      <th>rust</th>\n",
       "      <th>haskell</th>\n",
       "      <th>erlang</th>\n",
       "      <th>clojure</th>\n",
       "      <th>html5</th>\n",
       "      <th>YOE</th>\n",
       "      <th>Min Ed Level</th>\n",
       "    </tr>\n",
       "    <tr>\n",
       "      <th>uniq_id</th>\n",
       "      <th></th>\n",
       "      <th></th>\n",
       "      <th></th>\n",
       "      <th></th>\n",
       "      <th></th>\n",
       "      <th></th>\n",
       "      <th></th>\n",
       "      <th></th>\n",
       "      <th></th>\n",
       "      <th></th>\n",
       "      <th></th>\n",
       "      <th></th>\n",
       "      <th></th>\n",
       "      <th></th>\n",
       "      <th></th>\n",
       "      <th></th>\n",
       "      <th></th>\n",
       "      <th></th>\n",
       "      <th></th>\n",
       "      <th></th>\n",
       "      <th></th>\n",
       "    </tr>\n",
       "  </thead>\n",
       "  <tbody>\n",
       "    <tr>\n",
       "      <th>418ff92580b270ef4e7c14f0ddfc36b4</th>\n",
       "      <td>Digital Intelligence Systems, LLC</td>\n",
       "      <td>Atlanta</td>\n",
       "      <td>GA</td>\n",
       "      <td>AUTOMATION TEST ENGINEER</td>\n",
       "      <td>0</td>\n",
       "      <td>1</td>\n",
       "      <td>0</td>\n",
       "      <td>0</td>\n",
       "      <td>0</td>\n",
       "      <td>0</td>\n",
       "      <td>...</td>\n",
       "      <td>0</td>\n",
       "      <td>0</td>\n",
       "      <td>0</td>\n",
       "      <td>0</td>\n",
       "      <td>0</td>\n",
       "      <td>0</td>\n",
       "      <td>0</td>\n",
       "      <td>0</td>\n",
       "      <td>1.0</td>\n",
       "      <td>NaN</td>\n",
       "    </tr>\n",
       "    <tr>\n",
       "      <th>8aec88cba08d53da65ab99cf20f6f9d9</th>\n",
       "      <td>University of Chicago/IT Services</td>\n",
       "      <td>Chicago</td>\n",
       "      <td>IL</td>\n",
       "      <td>Information Security Engineer</td>\n",
       "      <td>1</td>\n",
       "      <td>0</td>\n",
       "      <td>0</td>\n",
       "      <td>0</td>\n",
       "      <td>0</td>\n",
       "      <td>0</td>\n",
       "      <td>...</td>\n",
       "      <td>0</td>\n",
       "      <td>0</td>\n",
       "      <td>0</td>\n",
       "      <td>0</td>\n",
       "      <td>0</td>\n",
       "      <td>0</td>\n",
       "      <td>0</td>\n",
       "      <td>0</td>\n",
       "      <td>2.0</td>\n",
       "      <td>bachelor</td>\n",
       "    </tr>\n",
       "    <tr>\n",
       "      <th>46baa1f69ac07779274bcd90b85d9a72</th>\n",
       "      <td>Galaxy Systems, Inc.</td>\n",
       "      <td>Schaumburg</td>\n",
       "      <td>IL</td>\n",
       "      <td>Business Solutions Architect</td>\n",
       "      <td>0</td>\n",
       "      <td>0</td>\n",
       "      <td>0</td>\n",
       "      <td>0</td>\n",
       "      <td>0</td>\n",
       "      <td>0</td>\n",
       "      <td>...</td>\n",
       "      <td>0</td>\n",
       "      <td>0</td>\n",
       "      <td>0</td>\n",
       "      <td>0</td>\n",
       "      <td>0</td>\n",
       "      <td>0</td>\n",
       "      <td>0</td>\n",
       "      <td>0</td>\n",
       "      <td>5.0</td>\n",
       "      <td>NaN</td>\n",
       "    </tr>\n",
       "    <tr>\n",
       "      <th>3941b2f206ae0f900c4fba4ac0b18719</th>\n",
       "      <td>TransTech LLC</td>\n",
       "      <td>Bolingbrook</td>\n",
       "      <td>IL</td>\n",
       "      <td>Java Developer (mid level)- FT- GREAT culture,...</td>\n",
       "      <td>0</td>\n",
       "      <td>0</td>\n",
       "      <td>0</td>\n",
       "      <td>0</td>\n",
       "      <td>0</td>\n",
       "      <td>0</td>\n",
       "      <td>...</td>\n",
       "      <td>0</td>\n",
       "      <td>0</td>\n",
       "      <td>0</td>\n",
       "      <td>0</td>\n",
       "      <td>0</td>\n",
       "      <td>0</td>\n",
       "      <td>0</td>\n",
       "      <td>0</td>\n",
       "      <td>2.0</td>\n",
       "      <td>bachelor</td>\n",
       "    </tr>\n",
       "    <tr>\n",
       "      <th>45efa1f6bc65acc32bbbb953a1ed13b7</th>\n",
       "      <td>Matrix Resources</td>\n",
       "      <td>Atlanta</td>\n",
       "      <td>GA</td>\n",
       "      <td>DevOps Engineer</td>\n",
       "      <td>0</td>\n",
       "      <td>0</td>\n",
       "      <td>0</td>\n",
       "      <td>0</td>\n",
       "      <td>0</td>\n",
       "      <td>0</td>\n",
       "      <td>...</td>\n",
       "      <td>0</td>\n",
       "      <td>0</td>\n",
       "      <td>0</td>\n",
       "      <td>0</td>\n",
       "      <td>0</td>\n",
       "      <td>0</td>\n",
       "      <td>0</td>\n",
       "      <td>0</td>\n",
       "      <td>NaN</td>\n",
       "      <td>NaN</td>\n",
       "    </tr>\n",
       "  </tbody>\n",
       "</table>\n",
       "<p>5 rows × 135 columns</p>\n",
       "</div>"
      ],
      "text/plain": [
       "                                                            company  \\\n",
       "uniq_id                                                               \n",
       "418ff92580b270ef4e7c14f0ddfc36b4  Digital Intelligence Systems, LLC   \n",
       "8aec88cba08d53da65ab99cf20f6f9d9  University of Chicago/IT Services   \n",
       "46baa1f69ac07779274bcd90b85d9a72               Galaxy Systems, Inc.   \n",
       "3941b2f206ae0f900c4fba4ac0b18719                      TransTech LLC   \n",
       "45efa1f6bc65acc32bbbb953a1ed13b7                   Matrix Resources   \n",
       "\n",
       "                                         city state  \\\n",
       "uniq_id                                               \n",
       "418ff92580b270ef4e7c14f0ddfc36b4      Atlanta    GA   \n",
       "8aec88cba08d53da65ab99cf20f6f9d9      Chicago    IL   \n",
       "46baa1f69ac07779274bcd90b85d9a72   Schaumburg    IL   \n",
       "3941b2f206ae0f900c4fba4ac0b18719  Bolingbrook    IL   \n",
       "45efa1f6bc65acc32bbbb953a1ed13b7      Atlanta    GA   \n",
       "\n",
       "                                                                           jobtitle  \\\n",
       "uniq_id                                                                               \n",
       "418ff92580b270ef4e7c14f0ddfc36b4                           AUTOMATION TEST ENGINEER   \n",
       "8aec88cba08d53da65ab99cf20f6f9d9                      Information Security Engineer   \n",
       "46baa1f69ac07779274bcd90b85d9a72                       Business Solutions Architect   \n",
       "3941b2f206ae0f900c4fba4ac0b18719  Java Developer (mid level)- FT- GREAT culture,...   \n",
       "45efa1f6bc65acc32bbbb953a1ed13b7                                    DevOps Engineer   \n",
       "\n",
       "                                  python  scala  .net  c#  matlab  simulink  \\\n",
       "uniq_id                                                                       \n",
       "418ff92580b270ef4e7c14f0ddfc36b4       0      1     0   0       0         0   \n",
       "8aec88cba08d53da65ab99cf20f6f9d9       1      0     0   0       0         0   \n",
       "46baa1f69ac07779274bcd90b85d9a72       0      0     0   0       0         0   \n",
       "3941b2f206ae0f900c4fba4ac0b18719       0      0     0   0       0         0   \n",
       "45efa1f6bc65acc32bbbb953a1ed13b7       0      0     0   0       0         0   \n",
       "\n",
       "                                      ...       perforce  maya  blockchain  \\\n",
       "uniq_id                               ...                                    \n",
       "418ff92580b270ef4e7c14f0ddfc36b4      ...              0     0           0   \n",
       "8aec88cba08d53da65ab99cf20f6f9d9      ...              0     0           0   \n",
       "46baa1f69ac07779274bcd90b85d9a72      ...              0     0           0   \n",
       "3941b2f206ae0f900c4fba4ac0b18719      ...              0     0           0   \n",
       "45efa1f6bc65acc32bbbb953a1ed13b7      ...              0     0           0   \n",
       "\n",
       "                                  rust  haskell  erlang  clojure  html5  YOE  \\\n",
       "uniq_id                                                                        \n",
       "418ff92580b270ef4e7c14f0ddfc36b4     0        0       0        0      0  1.0   \n",
       "8aec88cba08d53da65ab99cf20f6f9d9     0        0       0        0      0  2.0   \n",
       "46baa1f69ac07779274bcd90b85d9a72     0        0       0        0      0  5.0   \n",
       "3941b2f206ae0f900c4fba4ac0b18719     0        0       0        0      0  2.0   \n",
       "45efa1f6bc65acc32bbbb953a1ed13b7     0        0       0        0      0  NaN   \n",
       "\n",
       "                                  Min Ed Level  \n",
       "uniq_id                                         \n",
       "418ff92580b270ef4e7c14f0ddfc36b4           NaN  \n",
       "8aec88cba08d53da65ab99cf20f6f9d9      bachelor  \n",
       "46baa1f69ac07779274bcd90b85d9a72           NaN  \n",
       "3941b2f206ae0f900c4fba4ac0b18719      bachelor  \n",
       "45efa1f6bc65acc32bbbb953a1ed13b7           NaN  \n",
       "\n",
       "[5 rows x 135 columns]"
      ]
     },
     "execution_count": 6,
     "metadata": {},
     "output_type": "execute_result"
    }
   ],
   "source": [
    "print(df.shape)\n",
    "df.head()"
   ]
  },
  {
   "cell_type": "markdown",
   "metadata": {},
   "source": [
    "## Question to answer\n",
    "1. For each state, how many jobs are available (could create heat map if possible)\n",
    "2. For each state, list the top 5 cities with most jobs available.\n",
    "3. List 10 companies that offer most technology jobs\n",
    "4. Among all the jobs, count the number of occurrence for each skill and list the top10 popular skills\n",
    "5. For the five cites with most jobs, list the top5 popular skills (check whether the need for skills may vary among cities)\n",
    "6. The top five popular Database used\n",
    "7. For each education level, what’s the average years of experience needed.\n",
    "8. Based on the years of experience, compare the number of jobs available that needs YOE =0(New Grad), 1-4(Junior), >5(Senior).\n",
    "9. Compare whether skills needed for different job titles vary."
   ]
  },
  {
   "cell_type": "markdown",
   "metadata": {},
   "source": [
    "### 1. For each state, how many jobs are available (could create heat map if possible)"
   ]
  },
  {
   "cell_type": "code",
   "execution_count": 98,
   "metadata": {},
   "outputs": [],
   "source": [
    "import plotly.graph_objects as go"
   ]
  },
  {
   "cell_type": "code",
   "execution_count": 103,
   "metadata": {},
   "outputs": [
    {
     "name": "stdout",
     "output_type": "stream",
     "text": [
      "{'GA': 1926, 'IL': 626, 'NY': 2210, 'WA': 1384, 'CA': 4621, 'CO': 219, 'OR': 74, 'NV': 41, 'MO': 155, 'NJ': 1821, 'MN': 198, 'TX': 1925, 'UT': 48, 'SC': 55, 'PA': 777, 'FL': 355, 'AZ': 175, 'VA': 744, 'KS': 47, 'MD': 422, 'QC': 23, 'DC': 263, 'TN': 78, 'MI': 216, 'MA': 1364, 'CT': 745, 'WI': 180, 'NC': 280, 'OH': 268, 'OK': 23, 'AL': 24, 'DE': 58, 'RI': 101, 'NH': 73, 'ME': 43, 'VT': 7, 'KY': 45, 'NE': 63, 'IN': 52, 'IA': 64, 'WV': 3, 'LA': 39, 'SD': 4, 'ID': 12, 'AR': 5, 'ON': 27, 'NM': 8, 'HI': 10, 'AB': 4, 'NS': 1, 'AK': 5, 'BC': 5, 'MS': 4, 'ND': 1, 'WY': 3}\n"
     ]
    }
   ],
   "source": [
    "state_dict = dict()\n",
    "for state_value in df['state']:\n",
    "    if state_value in state_dict:\n",
    "        state_dict[state_value] += 1\n",
    "    else:\n",
    "        state_dict[state_value] = 1\n",
    "print(state_dict)"
   ]
  },
  {
   "cell_type": "code",
   "execution_count": 109,
   "metadata": {},
   "outputs": [],
   "source": [
    "# the only state with no jobs posted\n",
    "state_dict['MT'] = 0"
   ]
  },
  {
   "cell_type": "code",
   "execution_count": 110,
   "metadata": {
    "scrolled": true
   },
   "outputs": [
    {
     "data": {
      "text/html": [
       "<div>\n",
       "<style scoped>\n",
       "    .dataframe tbody tr th:only-of-type {\n",
       "        vertical-align: middle;\n",
       "    }\n",
       "\n",
       "    .dataframe tbody tr th {\n",
       "        vertical-align: top;\n",
       "    }\n",
       "\n",
       "    .dataframe thead th {\n",
       "        text-align: right;\n",
       "    }\n",
       "</style>\n",
       "<table border=\"1\" class=\"dataframe\">\n",
       "  <thead>\n",
       "    <tr style=\"text-align: right;\">\n",
       "      <th></th>\n",
       "      <th>state</th>\n",
       "      <th>num_of_jobs</th>\n",
       "    </tr>\n",
       "  </thead>\n",
       "  <tbody>\n",
       "    <tr>\n",
       "      <th>0</th>\n",
       "      <td>GA</td>\n",
       "      <td>1926</td>\n",
       "    </tr>\n",
       "    <tr>\n",
       "      <th>1</th>\n",
       "      <td>IL</td>\n",
       "      <td>626</td>\n",
       "    </tr>\n",
       "    <tr>\n",
       "      <th>2</th>\n",
       "      <td>NY</td>\n",
       "      <td>2210</td>\n",
       "    </tr>\n",
       "    <tr>\n",
       "      <th>3</th>\n",
       "      <td>WA</td>\n",
       "      <td>1384</td>\n",
       "    </tr>\n",
       "    <tr>\n",
       "      <th>4</th>\n",
       "      <td>CA</td>\n",
       "      <td>4621</td>\n",
       "    </tr>\n",
       "    <tr>\n",
       "      <th>5</th>\n",
       "      <td>CO</td>\n",
       "      <td>219</td>\n",
       "    </tr>\n",
       "    <tr>\n",
       "      <th>6</th>\n",
       "      <td>OR</td>\n",
       "      <td>74</td>\n",
       "    </tr>\n",
       "    <tr>\n",
       "      <th>7</th>\n",
       "      <td>NV</td>\n",
       "      <td>41</td>\n",
       "    </tr>\n",
       "    <tr>\n",
       "      <th>8</th>\n",
       "      <td>MO</td>\n",
       "      <td>155</td>\n",
       "    </tr>\n",
       "    <tr>\n",
       "      <th>9</th>\n",
       "      <td>NJ</td>\n",
       "      <td>1821</td>\n",
       "    </tr>\n",
       "    <tr>\n",
       "      <th>10</th>\n",
       "      <td>MN</td>\n",
       "      <td>198</td>\n",
       "    </tr>\n",
       "    <tr>\n",
       "      <th>11</th>\n",
       "      <td>TX</td>\n",
       "      <td>1925</td>\n",
       "    </tr>\n",
       "    <tr>\n",
       "      <th>12</th>\n",
       "      <td>UT</td>\n",
       "      <td>48</td>\n",
       "    </tr>\n",
       "    <tr>\n",
       "      <th>13</th>\n",
       "      <td>SC</td>\n",
       "      <td>55</td>\n",
       "    </tr>\n",
       "    <tr>\n",
       "      <th>14</th>\n",
       "      <td>PA</td>\n",
       "      <td>777</td>\n",
       "    </tr>\n",
       "    <tr>\n",
       "      <th>15</th>\n",
       "      <td>FL</td>\n",
       "      <td>355</td>\n",
       "    </tr>\n",
       "    <tr>\n",
       "      <th>16</th>\n",
       "      <td>AZ</td>\n",
       "      <td>175</td>\n",
       "    </tr>\n",
       "    <tr>\n",
       "      <th>17</th>\n",
       "      <td>VA</td>\n",
       "      <td>744</td>\n",
       "    </tr>\n",
       "    <tr>\n",
       "      <th>18</th>\n",
       "      <td>KS</td>\n",
       "      <td>47</td>\n",
       "    </tr>\n",
       "    <tr>\n",
       "      <th>19</th>\n",
       "      <td>MD</td>\n",
       "      <td>422</td>\n",
       "    </tr>\n",
       "    <tr>\n",
       "      <th>20</th>\n",
       "      <td>QC</td>\n",
       "      <td>23</td>\n",
       "    </tr>\n",
       "    <tr>\n",
       "      <th>21</th>\n",
       "      <td>DC</td>\n",
       "      <td>263</td>\n",
       "    </tr>\n",
       "    <tr>\n",
       "      <th>22</th>\n",
       "      <td>TN</td>\n",
       "      <td>78</td>\n",
       "    </tr>\n",
       "    <tr>\n",
       "      <th>23</th>\n",
       "      <td>MI</td>\n",
       "      <td>216</td>\n",
       "    </tr>\n",
       "    <tr>\n",
       "      <th>24</th>\n",
       "      <td>MA</td>\n",
       "      <td>1364</td>\n",
       "    </tr>\n",
       "    <tr>\n",
       "      <th>25</th>\n",
       "      <td>CT</td>\n",
       "      <td>745</td>\n",
       "    </tr>\n",
       "    <tr>\n",
       "      <th>26</th>\n",
       "      <td>WI</td>\n",
       "      <td>180</td>\n",
       "    </tr>\n",
       "    <tr>\n",
       "      <th>27</th>\n",
       "      <td>NC</td>\n",
       "      <td>280</td>\n",
       "    </tr>\n",
       "    <tr>\n",
       "      <th>28</th>\n",
       "      <td>OH</td>\n",
       "      <td>268</td>\n",
       "    </tr>\n",
       "    <tr>\n",
       "      <th>29</th>\n",
       "      <td>OK</td>\n",
       "      <td>23</td>\n",
       "    </tr>\n",
       "    <tr>\n",
       "      <th>30</th>\n",
       "      <td>AL</td>\n",
       "      <td>24</td>\n",
       "    </tr>\n",
       "    <tr>\n",
       "      <th>31</th>\n",
       "      <td>DE</td>\n",
       "      <td>58</td>\n",
       "    </tr>\n",
       "    <tr>\n",
       "      <th>32</th>\n",
       "      <td>RI</td>\n",
       "      <td>101</td>\n",
       "    </tr>\n",
       "    <tr>\n",
       "      <th>33</th>\n",
       "      <td>NH</td>\n",
       "      <td>73</td>\n",
       "    </tr>\n",
       "    <tr>\n",
       "      <th>34</th>\n",
       "      <td>ME</td>\n",
       "      <td>43</td>\n",
       "    </tr>\n",
       "    <tr>\n",
       "      <th>35</th>\n",
       "      <td>VT</td>\n",
       "      <td>7</td>\n",
       "    </tr>\n",
       "    <tr>\n",
       "      <th>36</th>\n",
       "      <td>KY</td>\n",
       "      <td>45</td>\n",
       "    </tr>\n",
       "    <tr>\n",
       "      <th>37</th>\n",
       "      <td>NE</td>\n",
       "      <td>63</td>\n",
       "    </tr>\n",
       "    <tr>\n",
       "      <th>38</th>\n",
       "      <td>IN</td>\n",
       "      <td>52</td>\n",
       "    </tr>\n",
       "    <tr>\n",
       "      <th>39</th>\n",
       "      <td>IA</td>\n",
       "      <td>64</td>\n",
       "    </tr>\n",
       "    <tr>\n",
       "      <th>40</th>\n",
       "      <td>WV</td>\n",
       "      <td>3</td>\n",
       "    </tr>\n",
       "    <tr>\n",
       "      <th>41</th>\n",
       "      <td>LA</td>\n",
       "      <td>39</td>\n",
       "    </tr>\n",
       "    <tr>\n",
       "      <th>42</th>\n",
       "      <td>SD</td>\n",
       "      <td>4</td>\n",
       "    </tr>\n",
       "    <tr>\n",
       "      <th>43</th>\n",
       "      <td>ID</td>\n",
       "      <td>12</td>\n",
       "    </tr>\n",
       "    <tr>\n",
       "      <th>44</th>\n",
       "      <td>AR</td>\n",
       "      <td>5</td>\n",
       "    </tr>\n",
       "    <tr>\n",
       "      <th>45</th>\n",
       "      <td>ON</td>\n",
       "      <td>27</td>\n",
       "    </tr>\n",
       "    <tr>\n",
       "      <th>46</th>\n",
       "      <td>NM</td>\n",
       "      <td>8</td>\n",
       "    </tr>\n",
       "    <tr>\n",
       "      <th>47</th>\n",
       "      <td>HI</td>\n",
       "      <td>10</td>\n",
       "    </tr>\n",
       "    <tr>\n",
       "      <th>48</th>\n",
       "      <td>AB</td>\n",
       "      <td>4</td>\n",
       "    </tr>\n",
       "    <tr>\n",
       "      <th>49</th>\n",
       "      <td>NS</td>\n",
       "      <td>1</td>\n",
       "    </tr>\n",
       "    <tr>\n",
       "      <th>50</th>\n",
       "      <td>AK</td>\n",
       "      <td>5</td>\n",
       "    </tr>\n",
       "    <tr>\n",
       "      <th>51</th>\n",
       "      <td>BC</td>\n",
       "      <td>5</td>\n",
       "    </tr>\n",
       "    <tr>\n",
       "      <th>52</th>\n",
       "      <td>MS</td>\n",
       "      <td>4</td>\n",
       "    </tr>\n",
       "    <tr>\n",
       "      <th>53</th>\n",
       "      <td>ND</td>\n",
       "      <td>1</td>\n",
       "    </tr>\n",
       "    <tr>\n",
       "      <th>54</th>\n",
       "      <td>WY</td>\n",
       "      <td>3</td>\n",
       "    </tr>\n",
       "    <tr>\n",
       "      <th>55</th>\n",
       "      <td>MT</td>\n",
       "      <td>0</td>\n",
       "    </tr>\n",
       "  </tbody>\n",
       "</table>\n",
       "</div>"
      ],
      "text/plain": [
       "   state  num_of_jobs\n",
       "0     GA         1926\n",
       "1     IL          626\n",
       "2     NY         2210\n",
       "3     WA         1384\n",
       "4     CA         4621\n",
       "5     CO          219\n",
       "6     OR           74\n",
       "7     NV           41\n",
       "8     MO          155\n",
       "9     NJ         1821\n",
       "10    MN          198\n",
       "11    TX         1925\n",
       "12    UT           48\n",
       "13    SC           55\n",
       "14    PA          777\n",
       "15    FL          355\n",
       "16    AZ          175\n",
       "17    VA          744\n",
       "18    KS           47\n",
       "19    MD          422\n",
       "20    QC           23\n",
       "21    DC          263\n",
       "22    TN           78\n",
       "23    MI          216\n",
       "24    MA         1364\n",
       "25    CT          745\n",
       "26    WI          180\n",
       "27    NC          280\n",
       "28    OH          268\n",
       "29    OK           23\n",
       "30    AL           24\n",
       "31    DE           58\n",
       "32    RI          101\n",
       "33    NH           73\n",
       "34    ME           43\n",
       "35    VT            7\n",
       "36    KY           45\n",
       "37    NE           63\n",
       "38    IN           52\n",
       "39    IA           64\n",
       "40    WV            3\n",
       "41    LA           39\n",
       "42    SD            4\n",
       "43    ID           12\n",
       "44    AR            5\n",
       "45    ON           27\n",
       "46    NM            8\n",
       "47    HI           10\n",
       "48    AB            4\n",
       "49    NS            1\n",
       "50    AK            5\n",
       "51    BC            5\n",
       "52    MS            4\n",
       "53    ND            1\n",
       "54    WY            3\n",
       "55    MT            0"
      ]
     },
     "execution_count": 110,
     "metadata": {},
     "output_type": "execute_result"
    }
   ],
   "source": [
    "state_df = pd.DataFrame({'state': list(state_dict.keys()), 'num_of_jobs': list(state_dict.values())})\n",
    "state_df"
   ]
  },
  {
   "cell_type": "code",
   "execution_count": 112,
   "metadata": {},
   "outputs": [
    {
     "data": {
      "application/vnd.plotly.v1+json": {
       "config": {
        "plotlyServerURL": "https://plot.ly"
       },
       "data": [
        {
         "colorbar": {
          "title": {
           "text": ""
          }
         },
         "colorscale": [
          [
           0,
           "rgb(255,245,240)"
          ],
          [
           0.125,
           "rgb(254,224,210)"
          ],
          [
           0.25,
           "rgb(252,187,161)"
          ],
          [
           0.375,
           "rgb(252,146,114)"
          ],
          [
           0.5,
           "rgb(251,106,74)"
          ],
          [
           0.625,
           "rgb(239,59,44)"
          ],
          [
           0.75,
           "rgb(203,24,29)"
          ],
          [
           0.875,
           "rgb(165,15,21)"
          ],
          [
           1,
           "rgb(103,0,13)"
          ]
         ],
         "locationmode": "USA-states",
         "locations": [
          "GA",
          "IL",
          "NY",
          "WA",
          "CA",
          "CO",
          "OR",
          "NV",
          "MO",
          "NJ",
          "MN",
          "TX",
          "UT",
          "SC",
          "PA",
          "FL",
          "AZ",
          "VA",
          "KS",
          "MD",
          "QC",
          "DC",
          "TN",
          "MI",
          "MA",
          "CT",
          "WI",
          "NC",
          "OH",
          "OK",
          "AL",
          "DE",
          "RI",
          "NH",
          "ME",
          "VT",
          "KY",
          "NE",
          "IN",
          "IA",
          "WV",
          "LA",
          "SD",
          "ID",
          "AR",
          "ON",
          "NM",
          "HI",
          "AB",
          "NS",
          "AK",
          "BC",
          "MS",
          "ND",
          "WY",
          "MT"
         ],
         "type": "choropleth",
         "z": [
          1926,
          626,
          2210,
          1384,
          4621,
          219,
          74,
          41,
          155,
          1821,
          198,
          1925,
          48,
          55,
          777,
          355,
          175,
          744,
          47,
          422,
          23,
          263,
          78,
          216,
          1364,
          745,
          180,
          280,
          268,
          23,
          24,
          58,
          101,
          73,
          43,
          7,
          45,
          63,
          52,
          64,
          3,
          39,
          4,
          12,
          5,
          27,
          8,
          10,
          4,
          1,
          5,
          5,
          4,
          1,
          3,
          0
         ]
        }
       ],
       "layout": {
        "geo": {
         "scope": "usa"
        },
        "template": {
         "data": {
          "bar": [
           {
            "error_x": {
             "color": "#2a3f5f"
            },
            "error_y": {
             "color": "#2a3f5f"
            },
            "marker": {
             "line": {
              "color": "#E5ECF6",
              "width": 0.5
             }
            },
            "type": "bar"
           }
          ],
          "barpolar": [
           {
            "marker": {
             "line": {
              "color": "#E5ECF6",
              "width": 0.5
             }
            },
            "type": "barpolar"
           }
          ],
          "carpet": [
           {
            "aaxis": {
             "endlinecolor": "#2a3f5f",
             "gridcolor": "white",
             "linecolor": "white",
             "minorgridcolor": "white",
             "startlinecolor": "#2a3f5f"
            },
            "baxis": {
             "endlinecolor": "#2a3f5f",
             "gridcolor": "white",
             "linecolor": "white",
             "minorgridcolor": "white",
             "startlinecolor": "#2a3f5f"
            },
            "type": "carpet"
           }
          ],
          "choropleth": [
           {
            "colorbar": {
             "outlinewidth": 0,
             "ticks": ""
            },
            "type": "choropleth"
           }
          ],
          "contour": [
           {
            "colorbar": {
             "outlinewidth": 0,
             "ticks": ""
            },
            "colorscale": [
             [
              0,
              "#0d0887"
             ],
             [
              0.1111111111111111,
              "#46039f"
             ],
             [
              0.2222222222222222,
              "#7201a8"
             ],
             [
              0.3333333333333333,
              "#9c179e"
             ],
             [
              0.4444444444444444,
              "#bd3786"
             ],
             [
              0.5555555555555556,
              "#d8576b"
             ],
             [
              0.6666666666666666,
              "#ed7953"
             ],
             [
              0.7777777777777778,
              "#fb9f3a"
             ],
             [
              0.8888888888888888,
              "#fdca26"
             ],
             [
              1,
              "#f0f921"
             ]
            ],
            "type": "contour"
           }
          ],
          "contourcarpet": [
           {
            "colorbar": {
             "outlinewidth": 0,
             "ticks": ""
            },
            "type": "contourcarpet"
           }
          ],
          "heatmap": [
           {
            "colorbar": {
             "outlinewidth": 0,
             "ticks": ""
            },
            "colorscale": [
             [
              0,
              "#0d0887"
             ],
             [
              0.1111111111111111,
              "#46039f"
             ],
             [
              0.2222222222222222,
              "#7201a8"
             ],
             [
              0.3333333333333333,
              "#9c179e"
             ],
             [
              0.4444444444444444,
              "#bd3786"
             ],
             [
              0.5555555555555556,
              "#d8576b"
             ],
             [
              0.6666666666666666,
              "#ed7953"
             ],
             [
              0.7777777777777778,
              "#fb9f3a"
             ],
             [
              0.8888888888888888,
              "#fdca26"
             ],
             [
              1,
              "#f0f921"
             ]
            ],
            "type": "heatmap"
           }
          ],
          "heatmapgl": [
           {
            "colorbar": {
             "outlinewidth": 0,
             "ticks": ""
            },
            "colorscale": [
             [
              0,
              "#0d0887"
             ],
             [
              0.1111111111111111,
              "#46039f"
             ],
             [
              0.2222222222222222,
              "#7201a8"
             ],
             [
              0.3333333333333333,
              "#9c179e"
             ],
             [
              0.4444444444444444,
              "#bd3786"
             ],
             [
              0.5555555555555556,
              "#d8576b"
             ],
             [
              0.6666666666666666,
              "#ed7953"
             ],
             [
              0.7777777777777778,
              "#fb9f3a"
             ],
             [
              0.8888888888888888,
              "#fdca26"
             ],
             [
              1,
              "#f0f921"
             ]
            ],
            "type": "heatmapgl"
           }
          ],
          "histogram": [
           {
            "marker": {
             "colorbar": {
              "outlinewidth": 0,
              "ticks": ""
             }
            },
            "type": "histogram"
           }
          ],
          "histogram2d": [
           {
            "colorbar": {
             "outlinewidth": 0,
             "ticks": ""
            },
            "colorscale": [
             [
              0,
              "#0d0887"
             ],
             [
              0.1111111111111111,
              "#46039f"
             ],
             [
              0.2222222222222222,
              "#7201a8"
             ],
             [
              0.3333333333333333,
              "#9c179e"
             ],
             [
              0.4444444444444444,
              "#bd3786"
             ],
             [
              0.5555555555555556,
              "#d8576b"
             ],
             [
              0.6666666666666666,
              "#ed7953"
             ],
             [
              0.7777777777777778,
              "#fb9f3a"
             ],
             [
              0.8888888888888888,
              "#fdca26"
             ],
             [
              1,
              "#f0f921"
             ]
            ],
            "type": "histogram2d"
           }
          ],
          "histogram2dcontour": [
           {
            "colorbar": {
             "outlinewidth": 0,
             "ticks": ""
            },
            "colorscale": [
             [
              0,
              "#0d0887"
             ],
             [
              0.1111111111111111,
              "#46039f"
             ],
             [
              0.2222222222222222,
              "#7201a8"
             ],
             [
              0.3333333333333333,
              "#9c179e"
             ],
             [
              0.4444444444444444,
              "#bd3786"
             ],
             [
              0.5555555555555556,
              "#d8576b"
             ],
             [
              0.6666666666666666,
              "#ed7953"
             ],
             [
              0.7777777777777778,
              "#fb9f3a"
             ],
             [
              0.8888888888888888,
              "#fdca26"
             ],
             [
              1,
              "#f0f921"
             ]
            ],
            "type": "histogram2dcontour"
           }
          ],
          "mesh3d": [
           {
            "colorbar": {
             "outlinewidth": 0,
             "ticks": ""
            },
            "type": "mesh3d"
           }
          ],
          "parcoords": [
           {
            "line": {
             "colorbar": {
              "outlinewidth": 0,
              "ticks": ""
             }
            },
            "type": "parcoords"
           }
          ],
          "pie": [
           {
            "automargin": true,
            "type": "pie"
           }
          ],
          "scatter": [
           {
            "marker": {
             "colorbar": {
              "outlinewidth": 0,
              "ticks": ""
             }
            },
            "type": "scatter"
           }
          ],
          "scatter3d": [
           {
            "line": {
             "colorbar": {
              "outlinewidth": 0,
              "ticks": ""
             }
            },
            "marker": {
             "colorbar": {
              "outlinewidth": 0,
              "ticks": ""
             }
            },
            "type": "scatter3d"
           }
          ],
          "scattercarpet": [
           {
            "marker": {
             "colorbar": {
              "outlinewidth": 0,
              "ticks": ""
             }
            },
            "type": "scattercarpet"
           }
          ],
          "scattergeo": [
           {
            "marker": {
             "colorbar": {
              "outlinewidth": 0,
              "ticks": ""
             }
            },
            "type": "scattergeo"
           }
          ],
          "scattergl": [
           {
            "marker": {
             "colorbar": {
              "outlinewidth": 0,
              "ticks": ""
             }
            },
            "type": "scattergl"
           }
          ],
          "scattermapbox": [
           {
            "marker": {
             "colorbar": {
              "outlinewidth": 0,
              "ticks": ""
             }
            },
            "type": "scattermapbox"
           }
          ],
          "scatterpolar": [
           {
            "marker": {
             "colorbar": {
              "outlinewidth": 0,
              "ticks": ""
             }
            },
            "type": "scatterpolar"
           }
          ],
          "scatterpolargl": [
           {
            "marker": {
             "colorbar": {
              "outlinewidth": 0,
              "ticks": ""
             }
            },
            "type": "scatterpolargl"
           }
          ],
          "scatterternary": [
           {
            "marker": {
             "colorbar": {
              "outlinewidth": 0,
              "ticks": ""
             }
            },
            "type": "scatterternary"
           }
          ],
          "surface": [
           {
            "colorbar": {
             "outlinewidth": 0,
             "ticks": ""
            },
            "colorscale": [
             [
              0,
              "#0d0887"
             ],
             [
              0.1111111111111111,
              "#46039f"
             ],
             [
              0.2222222222222222,
              "#7201a8"
             ],
             [
              0.3333333333333333,
              "#9c179e"
             ],
             [
              0.4444444444444444,
              "#bd3786"
             ],
             [
              0.5555555555555556,
              "#d8576b"
             ],
             [
              0.6666666666666666,
              "#ed7953"
             ],
             [
              0.7777777777777778,
              "#fb9f3a"
             ],
             [
              0.8888888888888888,
              "#fdca26"
             ],
             [
              1,
              "#f0f921"
             ]
            ],
            "type": "surface"
           }
          ],
          "table": [
           {
            "cells": {
             "fill": {
              "color": "#EBF0F8"
             },
             "line": {
              "color": "white"
             }
            },
            "header": {
             "fill": {
              "color": "#C8D4E3"
             },
             "line": {
              "color": "white"
             }
            },
            "type": "table"
           }
          ]
         },
         "layout": {
          "annotationdefaults": {
           "arrowcolor": "#2a3f5f",
           "arrowhead": 0,
           "arrowwidth": 1
          },
          "coloraxis": {
           "colorbar": {
            "outlinewidth": 0,
            "ticks": ""
           }
          },
          "colorscale": {
           "diverging": [
            [
             0,
             "#8e0152"
            ],
            [
             0.1,
             "#c51b7d"
            ],
            [
             0.2,
             "#de77ae"
            ],
            [
             0.3,
             "#f1b6da"
            ],
            [
             0.4,
             "#fde0ef"
            ],
            [
             0.5,
             "#f7f7f7"
            ],
            [
             0.6,
             "#e6f5d0"
            ],
            [
             0.7,
             "#b8e186"
            ],
            [
             0.8,
             "#7fbc41"
            ],
            [
             0.9,
             "#4d9221"
            ],
            [
             1,
             "#276419"
            ]
           ],
           "sequential": [
            [
             0,
             "#0d0887"
            ],
            [
             0.1111111111111111,
             "#46039f"
            ],
            [
             0.2222222222222222,
             "#7201a8"
            ],
            [
             0.3333333333333333,
             "#9c179e"
            ],
            [
             0.4444444444444444,
             "#bd3786"
            ],
            [
             0.5555555555555556,
             "#d8576b"
            ],
            [
             0.6666666666666666,
             "#ed7953"
            ],
            [
             0.7777777777777778,
             "#fb9f3a"
            ],
            [
             0.8888888888888888,
             "#fdca26"
            ],
            [
             1,
             "#f0f921"
            ]
           ],
           "sequentialminus": [
            [
             0,
             "#0d0887"
            ],
            [
             0.1111111111111111,
             "#46039f"
            ],
            [
             0.2222222222222222,
             "#7201a8"
            ],
            [
             0.3333333333333333,
             "#9c179e"
            ],
            [
             0.4444444444444444,
             "#bd3786"
            ],
            [
             0.5555555555555556,
             "#d8576b"
            ],
            [
             0.6666666666666666,
             "#ed7953"
            ],
            [
             0.7777777777777778,
             "#fb9f3a"
            ],
            [
             0.8888888888888888,
             "#fdca26"
            ],
            [
             1,
             "#f0f921"
            ]
           ]
          },
          "colorway": [
           "#636efa",
           "#EF553B",
           "#00cc96",
           "#ab63fa",
           "#FFA15A",
           "#19d3f3",
           "#FF6692",
           "#B6E880",
           "#FF97FF",
           "#FECB52"
          ],
          "font": {
           "color": "#2a3f5f"
          },
          "geo": {
           "bgcolor": "white",
           "lakecolor": "white",
           "landcolor": "#E5ECF6",
           "showlakes": true,
           "showland": true,
           "subunitcolor": "white"
          },
          "hoverlabel": {
           "align": "left"
          },
          "hovermode": "closest",
          "mapbox": {
           "style": "light"
          },
          "paper_bgcolor": "white",
          "plot_bgcolor": "#E5ECF6",
          "polar": {
           "angularaxis": {
            "gridcolor": "white",
            "linecolor": "white",
            "ticks": ""
           },
           "bgcolor": "#E5ECF6",
           "radialaxis": {
            "gridcolor": "white",
            "linecolor": "white",
            "ticks": ""
           }
          },
          "scene": {
           "xaxis": {
            "backgroundcolor": "#E5ECF6",
            "gridcolor": "white",
            "gridwidth": 2,
            "linecolor": "white",
            "showbackground": true,
            "ticks": "",
            "zerolinecolor": "white"
           },
           "yaxis": {
            "backgroundcolor": "#E5ECF6",
            "gridcolor": "white",
            "gridwidth": 2,
            "linecolor": "white",
            "showbackground": true,
            "ticks": "",
            "zerolinecolor": "white"
           },
           "zaxis": {
            "backgroundcolor": "#E5ECF6",
            "gridcolor": "white",
            "gridwidth": 2,
            "linecolor": "white",
            "showbackground": true,
            "ticks": "",
            "zerolinecolor": "white"
           }
          },
          "shapedefaults": {
           "line": {
            "color": "#2a3f5f"
           }
          },
          "ternary": {
           "aaxis": {
            "gridcolor": "white",
            "linecolor": "white",
            "ticks": ""
           },
           "baxis": {
            "gridcolor": "white",
            "linecolor": "white",
            "ticks": ""
           },
           "bgcolor": "#E5ECF6",
           "caxis": {
            "gridcolor": "white",
            "linecolor": "white",
            "ticks": ""
           }
          },
          "title": {
           "x": 0.05
          },
          "xaxis": {
           "automargin": true,
           "gridcolor": "white",
           "linecolor": "white",
           "ticks": "",
           "title": {
            "standoff": 15
           },
           "zerolinecolor": "white",
           "zerolinewidth": 2
          },
          "yaxis": {
           "automargin": true,
           "gridcolor": "white",
           "linecolor": "white",
           "ticks": "",
           "title": {
            "standoff": 15
           },
           "zerolinecolor": "white",
           "zerolinewidth": 2
          }
         }
        },
        "title": {
         "text": "Number of jobs posted by state"
        }
       }
      },
      "text/html": [
       "<div>\n",
       "        \n",
       "        \n",
       "            <div id=\"362f5ae6-a22f-4095-9153-2db9f2fe96da\" class=\"plotly-graph-div\" style=\"height:525px; width:100%;\"></div>\n",
       "            <script type=\"text/javascript\">\n",
       "                require([\"plotly\"], function(Plotly) {\n",
       "                    window.PLOTLYENV=window.PLOTLYENV || {};\n",
       "                    \n",
       "                if (document.getElementById(\"362f5ae6-a22f-4095-9153-2db9f2fe96da\")) {\n",
       "                    Plotly.newPlot(\n",
       "                        '362f5ae6-a22f-4095-9153-2db9f2fe96da',\n",
       "                        [{\"colorbar\": {\"title\": {\"text\": \"\"}}, \"colorscale\": [[0.0, \"rgb(255,245,240)\"], [0.125, \"rgb(254,224,210)\"], [0.25, \"rgb(252,187,161)\"], [0.375, \"rgb(252,146,114)\"], [0.5, \"rgb(251,106,74)\"], [0.625, \"rgb(239,59,44)\"], [0.75, \"rgb(203,24,29)\"], [0.875, \"rgb(165,15,21)\"], [1.0, \"rgb(103,0,13)\"]], \"locationmode\": \"USA-states\", \"locations\": [\"GA\", \"IL\", \"NY\", \"WA\", \"CA\", \"CO\", \"OR\", \"NV\", \"MO\", \"NJ\", \"MN\", \"TX\", \"UT\", \"SC\", \"PA\", \"FL\", \"AZ\", \"VA\", \"KS\", \"MD\", \"QC\", \"DC\", \"TN\", \"MI\", \"MA\", \"CT\", \"WI\", \"NC\", \"OH\", \"OK\", \"AL\", \"DE\", \"RI\", \"NH\", \"ME\", \"VT\", \"KY\", \"NE\", \"IN\", \"IA\", \"WV\", \"LA\", \"SD\", \"ID\", \"AR\", \"ON\", \"NM\", \"HI\", \"AB\", \"NS\", \"AK\", \"BC\", \"MS\", \"ND\", \"WY\", \"MT\"], \"type\": \"choropleth\", \"z\": [1926, 626, 2210, 1384, 4621, 219, 74, 41, 155, 1821, 198, 1925, 48, 55, 777, 355, 175, 744, 47, 422, 23, 263, 78, 216, 1364, 745, 180, 280, 268, 23, 24, 58, 101, 73, 43, 7, 45, 63, 52, 64, 3, 39, 4, 12, 5, 27, 8, 10, 4, 1, 5, 5, 4, 1, 3, 0]}],\n",
       "                        {\"geo\": {\"scope\": \"usa\"}, \"template\": {\"data\": {\"bar\": [{\"error_x\": {\"color\": \"#2a3f5f\"}, \"error_y\": {\"color\": \"#2a3f5f\"}, \"marker\": {\"line\": {\"color\": \"#E5ECF6\", \"width\": 0.5}}, \"type\": \"bar\"}], \"barpolar\": [{\"marker\": {\"line\": {\"color\": \"#E5ECF6\", \"width\": 0.5}}, \"type\": \"barpolar\"}], \"carpet\": [{\"aaxis\": {\"endlinecolor\": \"#2a3f5f\", \"gridcolor\": \"white\", \"linecolor\": \"white\", \"minorgridcolor\": \"white\", \"startlinecolor\": \"#2a3f5f\"}, \"baxis\": {\"endlinecolor\": \"#2a3f5f\", \"gridcolor\": \"white\", \"linecolor\": \"white\", \"minorgridcolor\": \"white\", \"startlinecolor\": \"#2a3f5f\"}, \"type\": \"carpet\"}], \"choropleth\": [{\"colorbar\": {\"outlinewidth\": 0, \"ticks\": \"\"}, \"type\": \"choropleth\"}], \"contour\": [{\"colorbar\": {\"outlinewidth\": 0, \"ticks\": \"\"}, \"colorscale\": [[0.0, \"#0d0887\"], [0.1111111111111111, \"#46039f\"], [0.2222222222222222, \"#7201a8\"], [0.3333333333333333, \"#9c179e\"], [0.4444444444444444, \"#bd3786\"], [0.5555555555555556, \"#d8576b\"], [0.6666666666666666, \"#ed7953\"], [0.7777777777777778, \"#fb9f3a\"], [0.8888888888888888, \"#fdca26\"], [1.0, \"#f0f921\"]], \"type\": \"contour\"}], \"contourcarpet\": [{\"colorbar\": {\"outlinewidth\": 0, \"ticks\": \"\"}, \"type\": \"contourcarpet\"}], \"heatmap\": [{\"colorbar\": {\"outlinewidth\": 0, \"ticks\": \"\"}, \"colorscale\": [[0.0, \"#0d0887\"], [0.1111111111111111, \"#46039f\"], [0.2222222222222222, \"#7201a8\"], [0.3333333333333333, \"#9c179e\"], [0.4444444444444444, \"#bd3786\"], [0.5555555555555556, \"#d8576b\"], [0.6666666666666666, \"#ed7953\"], [0.7777777777777778, \"#fb9f3a\"], [0.8888888888888888, \"#fdca26\"], [1.0, \"#f0f921\"]], \"type\": \"heatmap\"}], \"heatmapgl\": [{\"colorbar\": {\"outlinewidth\": 0, \"ticks\": \"\"}, \"colorscale\": [[0.0, \"#0d0887\"], [0.1111111111111111, \"#46039f\"], [0.2222222222222222, \"#7201a8\"], [0.3333333333333333, \"#9c179e\"], [0.4444444444444444, \"#bd3786\"], [0.5555555555555556, \"#d8576b\"], [0.6666666666666666, \"#ed7953\"], [0.7777777777777778, \"#fb9f3a\"], [0.8888888888888888, \"#fdca26\"], [1.0, \"#f0f921\"]], \"type\": \"heatmapgl\"}], \"histogram\": [{\"marker\": {\"colorbar\": {\"outlinewidth\": 0, \"ticks\": \"\"}}, \"type\": \"histogram\"}], \"histogram2d\": [{\"colorbar\": {\"outlinewidth\": 0, \"ticks\": \"\"}, \"colorscale\": [[0.0, \"#0d0887\"], [0.1111111111111111, \"#46039f\"], [0.2222222222222222, \"#7201a8\"], [0.3333333333333333, \"#9c179e\"], [0.4444444444444444, \"#bd3786\"], [0.5555555555555556, \"#d8576b\"], [0.6666666666666666, \"#ed7953\"], [0.7777777777777778, \"#fb9f3a\"], [0.8888888888888888, \"#fdca26\"], [1.0, \"#f0f921\"]], \"type\": \"histogram2d\"}], \"histogram2dcontour\": [{\"colorbar\": {\"outlinewidth\": 0, \"ticks\": \"\"}, \"colorscale\": [[0.0, \"#0d0887\"], [0.1111111111111111, \"#46039f\"], [0.2222222222222222, \"#7201a8\"], [0.3333333333333333, \"#9c179e\"], [0.4444444444444444, \"#bd3786\"], [0.5555555555555556, \"#d8576b\"], [0.6666666666666666, \"#ed7953\"], [0.7777777777777778, \"#fb9f3a\"], [0.8888888888888888, \"#fdca26\"], [1.0, \"#f0f921\"]], \"type\": \"histogram2dcontour\"}], \"mesh3d\": [{\"colorbar\": {\"outlinewidth\": 0, \"ticks\": \"\"}, \"type\": \"mesh3d\"}], \"parcoords\": [{\"line\": {\"colorbar\": {\"outlinewidth\": 0, \"ticks\": \"\"}}, \"type\": \"parcoords\"}], \"pie\": [{\"automargin\": true, \"type\": \"pie\"}], \"scatter\": [{\"marker\": {\"colorbar\": {\"outlinewidth\": 0, \"ticks\": \"\"}}, \"type\": \"scatter\"}], \"scatter3d\": [{\"line\": {\"colorbar\": {\"outlinewidth\": 0, \"ticks\": \"\"}}, \"marker\": {\"colorbar\": {\"outlinewidth\": 0, \"ticks\": \"\"}}, \"type\": \"scatter3d\"}], \"scattercarpet\": [{\"marker\": {\"colorbar\": {\"outlinewidth\": 0, \"ticks\": \"\"}}, \"type\": \"scattercarpet\"}], \"scattergeo\": [{\"marker\": {\"colorbar\": {\"outlinewidth\": 0, \"ticks\": \"\"}}, \"type\": \"scattergeo\"}], \"scattergl\": [{\"marker\": {\"colorbar\": {\"outlinewidth\": 0, \"ticks\": \"\"}}, \"type\": \"scattergl\"}], \"scattermapbox\": [{\"marker\": {\"colorbar\": {\"outlinewidth\": 0, \"ticks\": \"\"}}, \"type\": \"scattermapbox\"}], \"scatterpolar\": [{\"marker\": {\"colorbar\": {\"outlinewidth\": 0, \"ticks\": \"\"}}, \"type\": \"scatterpolar\"}], \"scatterpolargl\": [{\"marker\": {\"colorbar\": {\"outlinewidth\": 0, \"ticks\": \"\"}}, \"type\": \"scatterpolargl\"}], \"scatterternary\": [{\"marker\": {\"colorbar\": {\"outlinewidth\": 0, \"ticks\": \"\"}}, \"type\": \"scatterternary\"}], \"surface\": [{\"colorbar\": {\"outlinewidth\": 0, \"ticks\": \"\"}, \"colorscale\": [[0.0, \"#0d0887\"], [0.1111111111111111, \"#46039f\"], [0.2222222222222222, \"#7201a8\"], [0.3333333333333333, \"#9c179e\"], [0.4444444444444444, \"#bd3786\"], [0.5555555555555556, \"#d8576b\"], [0.6666666666666666, \"#ed7953\"], [0.7777777777777778, \"#fb9f3a\"], [0.8888888888888888, \"#fdca26\"], [1.0, \"#f0f921\"]], \"type\": \"surface\"}], \"table\": [{\"cells\": {\"fill\": {\"color\": \"#EBF0F8\"}, \"line\": {\"color\": \"white\"}}, \"header\": {\"fill\": {\"color\": \"#C8D4E3\"}, \"line\": {\"color\": \"white\"}}, \"type\": \"table\"}]}, \"layout\": {\"annotationdefaults\": {\"arrowcolor\": \"#2a3f5f\", \"arrowhead\": 0, \"arrowwidth\": 1}, \"coloraxis\": {\"colorbar\": {\"outlinewidth\": 0, \"ticks\": \"\"}}, \"colorscale\": {\"diverging\": [[0, \"#8e0152\"], [0.1, \"#c51b7d\"], [0.2, \"#de77ae\"], [0.3, \"#f1b6da\"], [0.4, \"#fde0ef\"], [0.5, \"#f7f7f7\"], [0.6, \"#e6f5d0\"], [0.7, \"#b8e186\"], [0.8, \"#7fbc41\"], [0.9, \"#4d9221\"], [1, \"#276419\"]], \"sequential\": [[0.0, \"#0d0887\"], [0.1111111111111111, \"#46039f\"], [0.2222222222222222, \"#7201a8\"], [0.3333333333333333, \"#9c179e\"], [0.4444444444444444, \"#bd3786\"], [0.5555555555555556, \"#d8576b\"], [0.6666666666666666, \"#ed7953\"], [0.7777777777777778, \"#fb9f3a\"], [0.8888888888888888, \"#fdca26\"], [1.0, \"#f0f921\"]], \"sequentialminus\": [[0.0, \"#0d0887\"], [0.1111111111111111, \"#46039f\"], [0.2222222222222222, \"#7201a8\"], [0.3333333333333333, \"#9c179e\"], [0.4444444444444444, \"#bd3786\"], [0.5555555555555556, \"#d8576b\"], [0.6666666666666666, \"#ed7953\"], [0.7777777777777778, \"#fb9f3a\"], [0.8888888888888888, \"#fdca26\"], [1.0, \"#f0f921\"]]}, \"colorway\": [\"#636efa\", \"#EF553B\", \"#00cc96\", \"#ab63fa\", \"#FFA15A\", \"#19d3f3\", \"#FF6692\", \"#B6E880\", \"#FF97FF\", \"#FECB52\"], \"font\": {\"color\": \"#2a3f5f\"}, \"geo\": {\"bgcolor\": \"white\", \"lakecolor\": \"white\", \"landcolor\": \"#E5ECF6\", \"showlakes\": true, \"showland\": true, \"subunitcolor\": \"white\"}, \"hoverlabel\": {\"align\": \"left\"}, \"hovermode\": \"closest\", \"mapbox\": {\"style\": \"light\"}, \"paper_bgcolor\": \"white\", \"plot_bgcolor\": \"#E5ECF6\", \"polar\": {\"angularaxis\": {\"gridcolor\": \"white\", \"linecolor\": \"white\", \"ticks\": \"\"}, \"bgcolor\": \"#E5ECF6\", \"radialaxis\": {\"gridcolor\": \"white\", \"linecolor\": \"white\", \"ticks\": \"\"}}, \"scene\": {\"xaxis\": {\"backgroundcolor\": \"#E5ECF6\", \"gridcolor\": \"white\", \"gridwidth\": 2, \"linecolor\": \"white\", \"showbackground\": true, \"ticks\": \"\", \"zerolinecolor\": \"white\"}, \"yaxis\": {\"backgroundcolor\": \"#E5ECF6\", \"gridcolor\": \"white\", \"gridwidth\": 2, \"linecolor\": \"white\", \"showbackground\": true, \"ticks\": \"\", \"zerolinecolor\": \"white\"}, \"zaxis\": {\"backgroundcolor\": \"#E5ECF6\", \"gridcolor\": \"white\", \"gridwidth\": 2, \"linecolor\": \"white\", \"showbackground\": true, \"ticks\": \"\", \"zerolinecolor\": \"white\"}}, \"shapedefaults\": {\"line\": {\"color\": \"#2a3f5f\"}}, \"ternary\": {\"aaxis\": {\"gridcolor\": \"white\", \"linecolor\": \"white\", \"ticks\": \"\"}, \"baxis\": {\"gridcolor\": \"white\", \"linecolor\": \"white\", \"ticks\": \"\"}, \"bgcolor\": \"#E5ECF6\", \"caxis\": {\"gridcolor\": \"white\", \"linecolor\": \"white\", \"ticks\": \"\"}}, \"title\": {\"x\": 0.05}, \"xaxis\": {\"automargin\": true, \"gridcolor\": \"white\", \"linecolor\": \"white\", \"ticks\": \"\", \"title\": {\"standoff\": 15}, \"zerolinecolor\": \"white\", \"zerolinewidth\": 2}, \"yaxis\": {\"automargin\": true, \"gridcolor\": \"white\", \"linecolor\": \"white\", \"ticks\": \"\", \"title\": {\"standoff\": 15}, \"zerolinecolor\": \"white\", \"zerolinewidth\": 2}}}, \"title\": {\"text\": \"Number of jobs posted by state\"}},\n",
       "                        {\"responsive\": true}\n",
       "                    ).then(function(){\n",
       "                            \n",
       "var gd = document.getElementById('362f5ae6-a22f-4095-9153-2db9f2fe96da');\n",
       "var x = new MutationObserver(function (mutations, observer) {{\n",
       "        var display = window.getComputedStyle(gd).display;\n",
       "        if (!display || display === 'none') {{\n",
       "            console.log([gd, 'removed!']);\n",
       "            Plotly.purge(gd);\n",
       "            observer.disconnect();\n",
       "        }}\n",
       "}});\n",
       "\n",
       "// Listen for the removal of the full notebook cells\n",
       "var notebookContainer = gd.closest('#notebook-container');\n",
       "if (notebookContainer) {{\n",
       "    x.observe(notebookContainer, {childList: true});\n",
       "}}\n",
       "\n",
       "// Listen for the clearing of the current output cell\n",
       "var outputEl = gd.closest('.output');\n",
       "if (outputEl) {{\n",
       "    x.observe(outputEl, {childList: true});\n",
       "}}\n",
       "\n",
       "                        })\n",
       "                };\n",
       "                });\n",
       "            </script>\n",
       "        </div>"
      ]
     },
     "metadata": {},
     "output_type": "display_data"
    }
   ],
   "source": [
    "fig = go.Figure(data=go.Choropleth(\n",
    "    locations=state_df['state'], # Spatial coordinates\n",
    "    z = state_df['num_of_jobs'].astype(int), # Data to be color-coded\n",
    "    locationmode = 'USA-states', # set of locations match entries in `locations`\n",
    "    colorscale = 'Reds',\n",
    "    colorbar_title = \"\",\n",
    "))\n",
    "\n",
    "fig.update_layout(\n",
    "    title_text = 'Number of jobs posted by state',\n",
    "    geo_scope='usa', # limite map scope to USA\n",
    ")\n",
    "\n",
    "fig.show()"
   ]
  },
  {
   "cell_type": "markdown",
   "metadata": {},
   "source": [
    "### 3. List 10 companies that offer most technology jobs"
   ]
  },
  {
   "cell_type": "code",
   "execution_count": 23,
   "metadata": {},
   "outputs": [],
   "source": [
    "company_job_num = dict()\n",
    "for company in df['company']:\n",
    "    if company in company_job_num:\n",
    "        company_job_num[company] += 1\n",
    "    else:\n",
    "        company_job_num[company] = 1\n",
    "company_job_num = dict(sorted(company_job_num.items(), key=lambda item:item[1], reverse=True))"
   ]
  },
  {
   "cell_type": "code",
   "execution_count": 24,
   "metadata": {},
   "outputs": [
    {
     "data": {
      "text/plain": [
       "{'CyberCoders': 335,\n",
       " 'Amazon': 262,\n",
       " 'Robert Half': 249,\n",
       " 'Robert Half Technology': 247,\n",
       " 'U.S. Tech Solutions Inc.': 188,\n",
       " 'Collabera': 178,\n",
       " 'Visionaire Partners': 171,\n",
       " 'Kforce Inc.': 161,\n",
       " 'The Judge Group': 153,\n",
       " 'Apex Systems, Inc': 151,\n",
       " 'Net2Source Inc.': 139,\n",
       " 'Modis': 139,\n",
       " 'Deloitte': 138,\n",
       " 'Randstad Technologies': 114,\n",
       " 'TEKsystems, Inc.': 108,\n",
       " 'NORTHROP GRUMMAN': 95,\n",
       " 'Maxonic, Inc.': 92,\n",
       " 'RSM US': 92,\n",
       " 'Experis': 84,\n",
       " 'Access Staffing': 83,\n",
       " 'iTech Solutions, Inc': 79,\n",
       " 'Synechron Inc.': 78,\n",
       " 'Request Technology, LLC': 73,\n",
       " 'TeamSoft': 73,\n",
       " 'Wipro Ltd.': 69,\n",
       " 'Principle Solutions Group': 67,\n",
       " 'INSYS Group': 66,\n",
       " 'Confidential Company': 66,\n",
       " 'TAD PGS, Inc': 63,\n",
       " 'TRIAD Group': 62,\n",
       " 'Aureus Group': 60,\n",
       " 'eclaro': 59,\n",
       " 'Xoriant Corporation': 58,\n",
       " 'HCL America Inc.': 57,\n",
       " 'Pyramid Consulting, Inc.': 53,\n",
       " 'HALLMARK GLOBAL TECHNOLOGIES INC': 52,\n",
       " 'Uber': 51,\n",
       " 'K2 Partnering Solutions, Inc.': 50,\n",
       " nan: 50,\n",
       " 'BayOne Solutions': 49,\n",
       " 'NTT DATA, Inc.': 48,\n",
       " 'Mitchell Martin, Inc.': 48,\n",
       " 'Cognizant Technology Solutions': 47,\n",
       " 'Atrilogy Solutions Group, Inc.': 47,\n",
       " 'Freddie Mac': 47,\n",
       " 'Mitchell Martin': 46,\n",
       " 'The Denzel Group': 45,\n",
       " 'Capgemini': 45,\n",
       " 'DST Systems, Inc': 45,\n",
       " 'Primus Software Corp': 44,\n",
       " 'eXcell': 43,\n",
       " 'IRIS Software, Inc.': 43,\n",
       " 'Proficient Business Systems Inc': 42,\n",
       " 'Hyatt Leader': 42,\n",
       " 'Matrix Resources': 41,\n",
       " 'Kelly IT': 41,\n",
       " 'Calance US': 41,\n",
       " 'CGS': 41,\n",
       " 'Digital Intelligence Systems, LLC': 40,\n",
       " 'The Matlen Silver Group, Inc.': 40,\n",
       " 'Tata Consultancy Services': 40,\n",
       " 'InfoVision, Inc.': 39,\n",
       " 'TSR Consulting Services, Inc.': 39,\n",
       " 'Paramount Software Solutions, Inc': 39,\n",
       " 'Ascent': 38,\n",
       " 'Softpath System, LLC.': 38,\n",
       " 'Themesoft Inc': 38,\n",
       " 'Bebee Affinity Social Network': 38,\n",
       " 'Princeton Information Ltd': 37,\n",
       " 'SIS-Systems Integration Solutions, Inc.': 37,\n",
       " 'Computer Enterprises, Inc.': 37,\n",
       " \"Macy's\": 36,\n",
       " 'Systems Pros Inc.': 35,\n",
       " 'Intelliswift Software Inc': 35,\n",
       " 'The Armada Group': 34,\n",
       " 'OSI Engineering, Inc.': 34,\n",
       " 'Presidio LLC': 33,\n",
       " 'SMCI': 32,\n",
       " 'Tekmark Global Solutions LLC': 32,\n",
       " 'ICONMA': 32,\n",
       " 'Datanomics': 32,\n",
       " 'Matlen Silver Group, Inc.': 32,\n",
       " 'Genesis10': 31,\n",
       " 'Genuent, LLC': 30,\n",
       " 'Gardner Resources Consulting, LLC': 30,\n",
       " 'Matlen Silver': 30,\n",
       " 'Reliable Software Resources': 30,\n",
       " 'Kutir Inc': 30,\n",
       " 'Capital Markets Placement': 30,\n",
       " 'Cox Automotive': 29,\n",
       " 'Cisco Systems Inc.': 29,\n",
       " 'Goahead Solutions': 29,\n",
       " 'Cypress Group': 28,\n",
       " 'T-Mobile': 28,\n",
       " '22nd Century Technologies, Inc.': 28,\n",
       " 'Sunrise Systems, Inc.': 27,\n",
       " 'Infosys': 27,\n",
       " 'Cynet Systems': 27,\n",
       " 'Infinity Consulting Solutions': 27,\n",
       " 'Arthur Lawrence': 27,\n",
       " 'Etouch Systems Corp': 26,\n",
       " 'First Republic Bank': 26,\n",
       " 'VDart, Inc.': 26,\n",
       " 'SRG Government Services': 26,\n",
       " 'IPsoft': 26,\n",
       " 'firstPRO, Inc.': 25,\n",
       " 'Zulily': 25,\n",
       " 'Flexton Inc': 25,\n",
       " 'Irvine Technology Corporation': 24,\n",
       " 'Staff Tech': 24,\n",
       " 'AMS Staffing Inc.': 24,\n",
       " 'UST Global Inc': 24,\n",
       " 'Techlink, Inc.': 24,\n",
       " 'Data Resource Technologies': 24,\n",
       " 'Latitude36 Inc': 24,\n",
       " 'Mainz Brady Group': 24,\n",
       " 'VanderHouwen & Associates, Inc.': 23,\n",
       " 'The Tri-Com Consulting Group': 23,\n",
       " 'Global Technical Talent': 23,\n",
       " 'Sierra-Cedar, Inc.': 23,\n",
       " 'KPG 99 Inc.': 23,\n",
       " 'Buxton Consulting': 22,\n",
       " 'Precision Systems': 22,\n",
       " 'Informatic Technologies': 22,\n",
       " 'Lenmar Consulting': 22,\n",
       " 'Expert Technical Solutions': 22,\n",
       " 'RMS Computer Corporation': 22,\n",
       " 'Embedded Resource Group, Inc': 22,\n",
       " 'Payette Group': 22,\n",
       " 'Redolent, Inc': 21,\n",
       " 'American IT Resource Group Inc.': 21,\n",
       " 'Enterprise Solutions': 21,\n",
       " 'TCA Consulting Group, Inc.': 21,\n",
       " 'Kavaliro': 21,\n",
       " 'Apetan Consulting': 21,\n",
       " 'TechLink Resources': 21,\n",
       " 'TekShapers': 20,\n",
       " 'GDH Consulting': 20,\n",
       " 'InSource, Inc.': 20,\n",
       " 'Chameleon Technologies': 20,\n",
       " 'Association of American Medical Colleges': 20,\n",
       " 'CyberData Technologies': 20,\n",
       " 'TNT Staffing': 20,\n",
       " 'Park Computer Systems, Inc': 20,\n",
       " 'First Tek, Inc.': 19,\n",
       " 'Overture Partners, LLC': 19,\n",
       " 'A2C Consulting': 19,\n",
       " 'Futures Group IT LLC.': 19,\n",
       " 'Sapvix': 19,\n",
       " 'Charter Global, Inc.': 19,\n",
       " 'SANS Consulting Services, Inc': 19,\n",
       " 'Open Systems Technologies': 19,\n",
       " 'Spring Lake Consulting': 19,\n",
       " 'DEEGIT, INC.': 19,\n",
       " 'Stanley Reid & Company': 19,\n",
       " 'Delta Information Systems, Inc.': 19,\n",
       " 'Forsos Incorporated': 19,\n",
       " 'Prosum': 19,\n",
       " 'IDC Technologies': 18,\n",
       " 'Simplion Technologies Inc': 18,\n",
       " 'Matrix Technology Group': 18,\n",
       " 'Thorndale Partners LLC': 18,\n",
       " 'Ventures Unlimited': 18,\n",
       " 'Veredus': 18,\n",
       " 'Global Resource Management, Inc.': 18,\n",
       " 'United Software Group': 18,\n",
       " 'New York Technology Partners': 18,\n",
       " 'AgreeYa Solutions': 18,\n",
       " 'Genoa International Solutions': 18,\n",
       " 'Odyssey Information Services': 18,\n",
       " 'Capricorn Systems, Inc.': 18,\n",
       " 'iStaff': 18,\n",
       " 'Calsoft Labs': 18,\n",
       " 'Sharp Decisions': 18,\n",
       " 'ZoeTech Staffing LLC': 18,\n",
       " 'Relational IT': 18,\n",
       " 'Denovo': 18,\n",
       " 'Compucom': 18,\n",
       " 'IMS - International Management Systems': 18,\n",
       " 'Avesta Computer Services': 17,\n",
       " 'Central Business Solutions': 17,\n",
       " 'Adroit Resources': 17,\n",
       " 'Next Level Business Services, Inc.': 17,\n",
       " 'Presidio Networked Solutions Group, LLC': 17,\n",
       " 'Vedainfo Inc.': 17,\n",
       " 'RedRiver Systems L.L.C.': 17,\n",
       " 'Joseph Harry Ltd': 17,\n",
       " 'GMS Advisors': 17,\n",
       " 'Creative Circle, LLC': 17,\n",
       " 'Indotronix International Corp': 17,\n",
       " 'Infostretch Corporation': 17,\n",
       " 'Ariel Partners': 17,\n",
       " 'E-Solutions, Inc.': 17,\n",
       " 'Brillio, LLC': 17,\n",
       " 'Zolon Tech Solutions Inc': 17,\n",
       " 'Mindsource Inc': 17,\n",
       " 'Naztec International Group LLC': 17,\n",
       " 'Mice Groups': 17,\n",
       " 'Walter Bacon': 17,\n",
       " 'Collinear Networks': 17,\n",
       " 'The Creative Group': 16,\n",
       " 'OmniPoint Staffing': 16,\n",
       " 'Talus Partners': 16,\n",
       " 'Intelligent Capital Network, Inc.': 16,\n",
       " 'Sterling Medical Devices': 16,\n",
       " 'Project One, Inc.': 16,\n",
       " 'Mindtree Limited': 16,\n",
       " 'iSoftStone': 16,\n",
       " 'Dimensional Thinking': 16,\n",
       " 'Pivotal Solutions Inc': 16,\n",
       " 'Bay Area Techworkers': 16,\n",
       " 'Softsol Resources Inc': 16,\n",
       " 'Technology Search International': 16,\n",
       " 'JMD Partners': 16,\n",
       " 'Galaxy Systems, Inc.': 15,\n",
       " 'Alpha Recruitment': 15,\n",
       " 'ADPI, LLC..': 15,\n",
       " 'Addison Group': 15,\n",
       " 'Technosoft Corporation': 15,\n",
       " 'The CEI Group': 15,\n",
       " 'Shain Associates': 15,\n",
       " 'FlaggStaff Technology Group, Inc': 15,\n",
       " 'Stellar Soft Solutions Inc': 15,\n",
       " 'Superior Group': 15,\n",
       " 'Fusion Solutions, Inc.': 15,\n",
       " 'The New York Times Company': 15,\n",
       " 'MDT Technical': 15,\n",
       " 'Alltech Consulting Services, Inc.': 15,\n",
       " 'Nityo Infotech Corporation': 15,\n",
       " 'Crescent Solutions Inc': 15,\n",
       " 'Apidel Technologies': 15,\n",
       " 'Canvas InfoTech Inc.': 15,\n",
       " 'MatchPoint Solutions': 15,\n",
       " 'DCM Data Systems': 15,\n",
       " 'ENTEGEE': 15,\n",
       " 'TSymmetry': 15,\n",
       " 'Jab-Tek': 15,\n",
       " 'ARK Solutions Inc': 15,\n",
       " 'SolTech, Inc': 15,\n",
       " 'Unisys': 15,\n",
       " 'PT Systems': 15,\n",
       " 'Chandra Technologies, Inc.': 15,\n",
       " 'Caresoft': 15,\n",
       " 'Tiva Systems, Inc': 15,\n",
       " 'Vivo Inc.': 15,\n",
       " 'Queen Consulting Group': 14,\n",
       " 'Strategic Employment Partners': 14,\n",
       " 'CTP - Cloud Technology Partners': 14,\n",
       " 'Booz Allen Hamilton': 14,\n",
       " 's.com': 14,\n",
       " 'Edge Technology Services, Inc.': 14,\n",
       " 'Connexions Data Inc': 14,\n",
       " 'APN Software Services, Inc': 14,\n",
       " 'OnX Enterprise Solutions': 14,\n",
       " 'Progressive Technology Solutions': 14,\n",
       " 'GM Financial': 14,\n",
       " 'Strategic IT Staffing': 14,\n",
       " 'System Soft Technologies': 14,\n",
       " 'Midwest Consulting Group, Inc.': 14,\n",
       " 'Mason Frank International': 14,\n",
       " 'Green Key Resources': 14,\n",
       " 'Canopy One Solutions Inc': 14,\n",
       " 'Combined Computer Resources': 14,\n",
       " 'NYC Dept of Info Technology (DoITT)': 14,\n",
       " 'ISL Techsolutions Inc': 14,\n",
       " 'Affinity Resource Group (MRI)': 14,\n",
       " 'UpStream Global Services': 14,\n",
       " 'Axelerate': 14,\n",
       " 'Costco Wholesale Corporation': 14,\n",
       " 'Tentek, Inc.': 14,\n",
       " 'ignITe': 14,\n",
       " 'MBA IT Consulting Services, Inc.': 14,\n",
       " 'Super Technology Solutions, Inc.': 14,\n",
       " 'AptoNet Inc': 14,\n",
       " 'Cox Media Group': 14,\n",
       " 'US IT Solutions, Inc.': 14,\n",
       " 'CompuGain Corporation': 14,\n",
       " 'Atlantic Partners': 14,\n",
       " 'Palace Gate Corporation': 14,\n",
       " 'CSI (Consultant Specialists Inc.)': 13,\n",
       " 'CVS Health': 13,\n",
       " 'Spruce Technology Inc.': 13,\n",
       " 'Newt Global': 13,\n",
       " 'Endure Technology Solutions, Inc.': 13,\n",
       " 'Execu/Search Group': 13,\n",
       " 'Advancement Alternatives': 13,\n",
       " 'Vertex Solutions Inc.': 13,\n",
       " 'HCL Global Systems': 13,\n",
       " 'Cardinal Technology Solutions': 13,\n",
       " 'Ztek Consulting': 13,\n",
       " 'FORTIRA INC.': 13,\n",
       " 'Sacc, Inc.': 13,\n",
       " 'Spar Information Systems': 13,\n",
       " 'iTech US, Inc.': 13,\n",
       " 'nfrastructure': 13,\n",
       " 'Crossfire Consulting Corp': 13,\n",
       " 'OUTSOURCE Consulting Services, Inc': 13,\n",
       " 'Mastech': 13,\n",
       " 'Systel,Inc.': 13,\n",
       " 'Tech Mahindra (Americas) Inc.': 13,\n",
       " 'DSC Resources, Inc.': 13,\n",
       " 'AETEA Information Technology Inc': 13,\n",
       " '24 Seven, Inc.': 13,\n",
       " 'Ascend It Staffing': 13,\n",
       " 'Mumba Technologies': 13,\n",
       " 'BroadPoint Group': 13,\n",
       " 'Nytec Inc': 13,\n",
       " 'Computer Futures': 13,\n",
       " '3coast': 13,\n",
       " 'Indecomm Holding Inc - Technology Services': 13,\n",
       " 'Kavi Software': 13,\n",
       " 'Activesoft, Inc.': 13,\n",
       " 'Alpha Net Consulting LLC': 13,\n",
       " 'Cox Communications': 13,\n",
       " 'Softworld Inc': 13,\n",
       " 'QCT, LLC': 13,\n",
       " 'iQuasar LLC': 13,\n",
       " 'CCP Global': 13,\n",
       " 'Guidewire Software': 13,\n",
       " 'RiverPoint Group': 13,\n",
       " 'Amerit Consulting': 12,\n",
       " 'Agile Enterprise Solutions, Inc.': 12,\n",
       " 'Ness Software Engineering Services': 12,\n",
       " 'InfoPeople Corp': 12,\n",
       " 'Compunnel Software Group Inc.': 12,\n",
       " 'The McIntyre Group': 12,\n",
       " 'Kelly Services': 12,\n",
       " 'PanAsia Resources Pte Ltd.': 12,\n",
       " 'VLink Inc': 12,\n",
       " 'Fast Switch, Ltd.': 12,\n",
       " 'Infotek Consulting Services Inc.': 12,\n",
       " 'Resource Management International Inc.': 12,\n",
       " 'Mercury Systems, Inc.': 12,\n",
       " 'Transamerican Information Systems': 12,\n",
       " 'Monroe Staffing Services': 12,\n",
       " 'Techno Staffing Inc.': 12,\n",
       " 'AKVARR': 12,\n",
       " 'Symbioun Technologies, Inc': 12,\n",
       " 'BigBevy Consulting': 12,\n",
       " 'Canyon Associates': 12,\n",
       " 'Atyeti': 12,\n",
       " 'CML Offshore Recruitment': 12,\n",
       " 'Harvey Nash USA': 12,\n",
       " 'Roc Search US': 12,\n",
       " 'Rekruiters LLC.': 12,\n",
       " 'GreenSky Credit': 12,\n",
       " 'Open Systems, Inc.': 12,\n",
       " '3i People, Inc.': 12,\n",
       " 'The Advisory Board Company': 12,\n",
       " 'TEK Connexion': 12,\n",
       " 'Talener': 12,\n",
       " 'Advanced Software Talent': 12,\n",
       " 'Tandem Recruiting Group': 12,\n",
       " 'Metabyte': 12,\n",
       " 'Talent Space, Inc.': 12,\n",
       " 'ATR International, Inc.': 12,\n",
       " 'Envoy Consulting Group, Inc': 12,\n",
       " 'AEG - Application Engineering Group': 12,\n",
       " 'Yash Technologies': 11,\n",
       " 'ReqRoute, Inc': 11,\n",
       " 'Stratitude Inc': 11,\n",
       " 'TRIGYN TECHNOLOGIES, INC.': 11,\n",
       " 'Chenoa Information Services': 11,\n",
       " 'Fourth Technologies, Inc.': 11,\n",
       " 'ICST, LLC': 11,\n",
       " 'TECHstaff Resources, Inc.': 11,\n",
       " 'Business Knowledge Services': 11,\n",
       " 'Scalable Systems': 11,\n",
       " 'eRichards Consulting': 11,\n",
       " 'Analytic Recruiting Inc': 11,\n",
       " 'Stott and May': 11,\n",
       " 'CGI': 11,\n",
       " 'Prowess Consulting, Llc': 11,\n",
       " 'Fabergent': 11,\n",
       " 'NetSource, Inc.': 11,\n",
       " 'The Resource Collaborative': 11,\n",
       " 'Nigel Frank International': 11,\n",
       " 'Strategic Software Solutions, Inc.': 11,\n",
       " 'Salt Search': 11,\n",
       " 'West Coast Consulting LLC': 11,\n",
       " 'ACA Technology LLC.': 11,\n",
       " 'Technical Resource Network': 11,\n",
       " 'TechTalent Squared': 11,\n",
       " 'IntePros Consulting': 11,\n",
       " 'Davinci Tek': 11,\n",
       " 'Enrich, LLC': 11,\n",
       " 'Bayside Solutions': 11,\n",
       " 'Nigel Frank International Inc.': 11,\n",
       " 'H10 Capital': 11,\n",
       " 'Interactive Resources LLC': 11,\n",
       " 'WaveStrong, Inc.': 11,\n",
       " 'Finezi': 11,\n",
       " 'Cybersearch, Ltd.': 11,\n",
       " 'Advent Global Solutions, Inc.': 11,\n",
       " 'Quality Technology Services': 11,\n",
       " 'Genpact LLC': 11,\n",
       " 'Nesco Resource': 11,\n",
       " 'HTC Global Services, Inc.': 11,\n",
       " 'Capital Staffing Solutions': 11,\n",
       " 'Stratacent': 11,\n",
       " 'Kane Partners Staffing': 11,\n",
       " 'Q Analysts LLC': 11,\n",
       " 'Xtreme Consulting Group, Inc.': 11,\n",
       " 'Britech Group, Inc.': 11,\n",
       " 'Britstan Technology': 11,\n",
       " 'Psinapse Technology': 11,\n",
       " 'WinMax Systems Corporation': 11,\n",
       " 'Thinkfind Corporation': 10,\n",
       " 'Cystems Logic': 10,\n",
       " 'CODEFORCE 360': 10,\n",
       " 'N-Tier Solutions Inc.': 10,\n",
       " 'Encore Consulting Services': 10,\n",
       " 'Celestos, LLC': 10,\n",
       " 'Lawrence Harvey': 10,\n",
       " 'Bridge Search Associates': 10,\n",
       " 'K Anand Corporation': 10,\n",
       " 'Virtusa': 10,\n",
       " 'Techgene Solutions LLC': 10,\n",
       " 'AGS International': 10,\n",
       " 'Citadel Information Services Inc': 10,\n",
       " 'Tanisha Systems, Inc.': 10,\n",
       " 'Nueva Solutions, Inc.': 10,\n",
       " 'Marshwinds International Inc.': 10,\n",
       " 'Technical Link': 10,\n",
       " 'Object Technology Solutions, Inc.': 10,\n",
       " 'Opal Force Inc': 10,\n",
       " 'Butler America': 10,\n",
       " 'CESUSA, INC.': 10,\n",
       " 'Career Developers': 10,\n",
       " 'e-Primary': 10,\n",
       " 'Mindteck': 10,\n",
       " 'RennerBrown': 10,\n",
       " 'Gravitas Recruitment Group': 10,\n",
       " 'Prestige Staffing': 10,\n",
       " 'Data Incorporated': 10,\n",
       " 'Kapital Data Corp': 10,\n",
       " 'MphasiS Corporation USA': 10,\n",
       " 'Suswee DBA Compu-Info': 10,\n",
       " 'Lucas Group': 10,\n",
       " 'IT Associates, Inc.': 10,\n",
       " 'XDuce': 10,\n",
       " 'TechnoSphere, Inc': 10,\n",
       " 'Windsor Partners': 10,\n",
       " 'ApTask': 10,\n",
       " 'Titan Technologies, Inc.': 10,\n",
       " 'Zensa': 10,\n",
       " 'Staffing Technologies': 10,\n",
       " 'Zen3': 10,\n",
       " 'Alert Logic Inc': 10,\n",
       " 'Spirent Communications': 10,\n",
       " 'Chenega Corporation': 10,\n",
       " 'ICON Technologies': 10,\n",
       " 'Lodestar Consulting, LLC': 10,\n",
       " 'CPS Comtech': 10,\n",
       " 'Maantic': 10,\n",
       " 'Stout Systems Development': 10,\n",
       " 'Red Oak Technologies, Inc.': 10,\n",
       " 'Infobahn Softworld Inc.': 10,\n",
       " 'Dynanet Corporation': 10,\n",
       " 'Concinnity Group': 10,\n",
       " 'Ommeher Inc.': 10,\n",
       " 'Squires Group, Inc': 10,\n",
       " 'Akshaya Inc': 10,\n",
       " 'Ace Info Solutions, Inc.': 10,\n",
       " 'Greenfield Partners Inc.': 10,\n",
       " 'Rodan + Fields Dermatologists': 10,\n",
       " 'Peterson Technology Partners': 10,\n",
       " 'Equis Staffing': 10,\n",
       " 'Futuretech Staffing': 10,\n",
       " 'Amarx Search, Inc.': 10,\n",
       " 'Cross Creek Systems': 10,\n",
       " 'Software Guidance & Assistance': 9,\n",
       " 'SoftHQ, Inc.': 9,\n",
       " 'SolutionIT, Inc.': 9,\n",
       " 'CenturyLink': 9,\n",
       " 'Comrise': 9,\n",
       " 'Sirius Computer Solutions Inc': 9,\n",
       " 'Computer Merchant, Ltd., The': 9,\n",
       " 'M9 Solutions': 9,\n",
       " 'Longford & Company': 9,\n",
       " 'Cyber 360 Solutions': 9,\n",
       " 'Synergistic Systems, Inc.': 9,\n",
       " 'eHire': 9,\n",
       " 'Eveear Tech': 9,\n",
       " '360 IT Professionals Inc': 9,\n",
       " 'Systems America, Inc': 9,\n",
       " 'Techorbit, Inc': 9,\n",
       " 'Contech Systems Online': 9,\n",
       " 'Sigma Group': 9,\n",
       " 'eDataForce consulting LLC': 9,\n",
       " 'InfoGroup': 9,\n",
       " 'Telecomm Software': 9,\n",
       " 'Lloyd Information Technology': 9,\n",
       " 'Bicitis Group': 9,\n",
       " 'Knack Systems LLC': 9,\n",
       " 'Custom Staffing': 9,\n",
       " 'Sofia Technology': 9,\n",
       " 'Hatstand US, Inc.': 9,\n",
       " 'BellSoft': 9,\n",
       " 'TTS Technology': 9,\n",
       " 'Brandon Consulting': 9,\n",
       " 'Cigniti Technologies Inc': 9,\n",
       " 'ARMO Consultants': 9,\n",
       " 'Programmer Resources International Inc (PRI Inc.)': 9,\n",
       " 'Red Commerce': 9,\n",
       " 'Intraedge': 9,\n",
       " 'Vaco - San Francisco': 9,\n",
       " 'EJR Search Partners': 9,\n",
       " 'People Tech Group': 9,\n",
       " 'Prospance Inc.': 9,\n",
       " 'Hansell Tierney': 9,\n",
       " 'iSymmetry': 9,\n",
       " 'Talbridge Corporation': 9,\n",
       " 'Strivector': 9,\n",
       " 'FOURANS LLC': 9,\n",
       " 'Cargurus': 9,\n",
       " 'University of Minnesota - OIT': 9,\n",
       " 'LGS Innovations LLC': 9,\n",
       " 'DBI Staffing': 9,\n",
       " 'ISO': 9,\n",
       " 'Central Point Partners': 9,\n",
       " 'Tallience, LLC': 9,\n",
       " 'Adi WorldLink, LLC': 9,\n",
       " 'Solution Partners, Inc.': 9,\n",
       " '@tech Consulting Group': 9,\n",
       " 'Syntax': 9,\n",
       " 'Delegata': 9,\n",
       " 'Sedaa': 9,\n",
       " 'Taos': 9,\n",
       " 'Cherwell Software, Inc.': 9,\n",
       " 'Criterion Executive Search': 9,\n",
       " 'UnitedHealth Group': 8,\n",
       " 'Maxima Consulting Inc': 8,\n",
       " 'Kaizen Technologies': 8,\n",
       " 'Connected Systems': 8,\n",
       " 'Cengage Learning': 8,\n",
       " 'Bay State Search': 8,\n",
       " 'Xpeerant Inc.': 8,\n",
       " 'The Vesume Group': 8,\n",
       " 'Aries Systems Corporation': 8,\n",
       " 'Publishers Clearing House': 8,\n",
       " 'Empower Professionals': 8,\n",
       " 'M & R Consultants Corporation': 8,\n",
       " 'Carbon Black, Inc.': 8,\n",
       " 'SolutionsIQ': 8,\n",
       " 'MW Partners LLC': 8,\n",
       " 'CNET Global Solutions, INC': 8,\n",
       " 'BridgeView IT': 8,\n",
       " 'The Brixton Group': 8,\n",
       " 'Oxford International': 8,\n",
       " 'Ascentiant International': 8,\n",
       " 'Samiti Technology Inc.': 8,\n",
       " 'Amzur Technologies, Inc.': 8,\n",
       " 'YER USA, Inc.': 8,\n",
       " 'KPIT Infosystems, Inc.': 8,\n",
       " 'KASTECH Software Solutions Group': 8,\n",
       " 'Tranzeal, Inc.': 8,\n",
       " 'Reveille Technologies': 8,\n",
       " 'Eden Technologies': 8,\n",
       " 'Next Step Staffing': 8,\n",
       " 'iconectiv': 8,\n",
       " 'Compworldwide': 8,\n",
       " 'Prescientq': 8,\n",
       " 'Technology Resource Management': 8,\n",
       " 'Career Management Associates': 8,\n",
       " 'Rangam Consultants': 8,\n",
       " 'Expedite Technology Solutions': 8,\n",
       " 'Applied Resource Group': 8,\n",
       " 'Tekskills Inc.': 8,\n",
       " 'Rayven IT Solutions': 8,\n",
       " 'Comforce Corporation, Inc.': 8,\n",
       " 'ITBMS Inc.': 8,\n",
       " 'Sage IT Inc': 8,\n",
       " 'InfiCare Technologies': 8,\n",
       " 'State of Washington': 8,\n",
       " 'MACRO.CCS': 8,\n",
       " 'Magnum Technologies, Inc.': 8,\n",
       " 'Agreatis, Inc.': 8,\n",
       " 'University of Washington': 8,\n",
       " 'Intone Networks Inc.': 8,\n",
       " 'Capability IT': 8,\n",
       " 'Proliance Consulting': 8,\n",
       " 'Plato Consulting': 8,\n",
       " 'Royal & Ross, Inc.': 8,\n",
       " 'Vprime Services': 8,\n",
       " 'Strategic Staffing Solutions': 8,\n",
       " 'Stratford Solutions Inc': 8,\n",
       " 'E Computer Technologies': 8,\n",
       " 'TekStream Solutions, LLC': 8,\n",
       " 'Pareto Solutions Group, Inc.': 8,\n",
       " 'Synergis': 8,\n",
       " 'Brightree LLC': 8,\n",
       " 'Iron Systems, Inc': 8,\n",
       " 'ALTEK Information Technology, Inc.': 8,\n",
       " 'ICF': 8,\n",
       " 'CACI': 8,\n",
       " 'E*TRADE': 8,\n",
       " 'Xconic': 8,\n",
       " 'Citizant, Inc.': 8,\n",
       " 'Albin Engineering Services, Inc.': 8,\n",
       " 'Benchmark IT LLC': 8,\n",
       " 'Avenues International, Inc.': 8,\n",
       " 'Strategic Systems Inc': 8,\n",
       " 'Averity': 8,\n",
       " 'CTG': 8,\n",
       " 'KirkSearch': 8,\n",
       " 'Rootshell Enterprise Technologies Inc.': 8,\n",
       " 'Beaullieu & Associates': 8,\n",
       " 'Elti Solutions': 8,\n",
       " 'Digital Staffing': 8,\n",
       " 'W.R. Rosato & Associates': 8,\n",
       " 'ConnectPoint Search Group': 8,\n",
       " 'Prairie Consulting Services, Inc': 8,\n",
       " 'Meridianservices LLC.': 8,\n",
       " 'TRUGlobal': 8,\n",
       " '3Di Systems': 8,\n",
       " 'Dinan & Associates': 8,\n",
       " 'RealPage Inc.': 8,\n",
       " 'IIT, Inc': 8,\n",
       " 'Nelson Technology': 8,\n",
       " 'Phoenix 2.0, Inc': 8,\n",
       " 'Capitol Search, LTD': 8,\n",
       " 'Ohm Systems': 8,\n",
       " 'I-Hire': 8,\n",
       " 'Fahrenheit IT Staffing & Consulting': 7,\n",
       " 'Alpha Consulting Corp.': 7,\n",
       " 'Aquinas Consulting': 7,\n",
       " 'Trident Consulting Inc.': 7,\n",
       " 'The FootBridge Companies': 7,\n",
       " 'RitePros Inc.': 7,\n",
       " 'GRT Corporation': 7,\n",
       " 'Ariston Tek, Inc.': 7,\n",
       " 'SoftPath Technologies LLC': 7,\n",
       " 'USM Business Systems': 7,\n",
       " 'Syrinx Consulting Corporation': 7,\n",
       " 'Tufts University': 7,\n",
       " 'IT Solutions': 7,\n",
       " 'SNI Companies dba SNI Technology': 7,\n",
       " 'TDS: Transitional Data Services': 7,\n",
       " 'Advans IT Services': 7,\n",
       " 'Source Infotech': 7,\n",
       " 'Srinav Inc.': 7,\n",
       " 'Hobbs Madison': 7,\n",
       " 'DATASYS CONSULTING & SOFTWARE INC': 7,\n",
       " 'Amtex Systems Inc.': 7,\n",
       " 'Beacon Hill Staffing Group, LLC': 7,\n",
       " 'Linium': 7,\n",
       " 'VIVA USA INC': 7,\n",
       " 'Intellisoft Technologies': 7,\n",
       " 'RJT Compuquest': 7,\n",
       " 'Mount Sinai Medical Center': 7,\n",
       " 'Sierra Infosys Inc.': 7,\n",
       " 'KHOJ Information Technology, Inc.': 7,\n",
       " 'Armstrong Consulting Group': 7,\n",
       " 'MTM Technologies': 7,\n",
       " 'Perennial Resources International': 7,\n",
       " 'Columbia University': 7,\n",
       " 'Blue Horizon Tek Solutions, Inc.': 7,\n",
       " 'The Forum Group': 7,\n",
       " 'RTP Technology Corporation': 7,\n",
       " 'Pros2Plan': 7,\n",
       " 'The NPD Group': 7,\n",
       " 'iSam Global, Inc.': 7,\n",
       " 'Project Consulting Specialists': 7,\n",
       " 'Career Path Group LLC': 7,\n",
       " 'Susquehanna International Group, LLP': 7,\n",
       " 'DynTek': 7,\n",
       " 'Task Management Inc': 7,\n",
       " 'JetBlue Airways': 7,\n",
       " 'Grant-Peters Associates': 7,\n",
       " 'Global Technology Solutions Group (GTSG)': 7,\n",
       " 'OpLinx, Inc.': 7,\n",
       " 'O2F Info': 7,\n",
       " 'Advanced Programming Group': 7,\n",
       " 'MetaSense, Inc.': 7,\n",
       " 'GENEVA CONSULTING GROUP': 7,\n",
       " 'DatamanUSA, LLC': 7,\n",
       " 'Case Interactive': 7,\n",
       " 'Resource Logistics': 7,\n",
       " 'Aegis Company': 7,\n",
       " 'Diligente Technologies': 7,\n",
       " 'Interloc Solutions': 7,\n",
       " 'Technology Resource Group': 7,\n",
       " 'Trigent Solutions': 7,\n",
       " 'aquesst': 7,\n",
       " 'Traverze Consultancy Solutions Private Limited': 7,\n",
       " 'nLeague Services': 7,\n",
       " 'Software Specialists Inc': 7,\n",
       " 'eDataWorld': 7,\n",
       " 'National Software Management': 7,\n",
       " 'Kforce Government Solutions': 7,\n",
       " 'Vaco - Richmond': 7,\n",
       " 'geicodc': 7,\n",
       " 'SOFT Inc.': 7,\n",
       " 'ObjectWin Technology Inc': 7,\n",
       " 'TrustedQA': 7,\n",
       " 'Techno-Comp, Inc.': 7,\n",
       " 'Chewy': 7,\n",
       " 'Saksoft': 7,\n",
       " 'Svam International, Inc.': 7,\n",
       " 'City of New York': 7,\n",
       " 'Adept CC': 7,\n",
       " 'Net Matrix Solutions': 7,\n",
       " 'Paragon Solutions Inc.': 7,\n",
       " 'MatchPoint Consulting Group': 7,\n",
       " 'Spotline': 7,\n",
       " 'IBG, LLC': 7,\n",
       " 'Genesis NGN Inc.': 7,\n",
       " 'Productive Data Commercial Solutions': 7,\n",
       " 'Ab Ovo Inc': 7,\n",
       " 'Advantech Solutions, Inc.': 7,\n",
       " 'PINPOINT Resource Group': 7,\n",
       " 'DGN Technologies': 7,\n",
       " 'ASCII Group LLC': 7,\n",
       " 'Triune Infomatics Inc': 7,\n",
       " 'cPrime, Inc.': 7,\n",
       " 'Sohum Inc.': 7,\n",
       " 'Zenaide Technologies': 7,\n",
       " 'aumkaara Inc.': 7,\n",
       " 'Solu Technology Partners': 7,\n",
       " 'Pentagon Federal Credit Union': 7,\n",
       " 'Core BTS': 7,\n",
       " 'NewWave Technologies Inc': 7,\n",
       " 'Pacific Data Integrators': 7,\n",
       " 'Group A LLC': 7,\n",
       " 'Target Labs': 7,\n",
       " 'InScope International, Inc.': 7,\n",
       " 'Tetra Tech AMT': 7,\n",
       " 'Openarc': 7,\n",
       " 'Scigon Solutions': 7,\n",
       " 'Prolifics': 7,\n",
       " 'Accelon Inc': 7,\n",
       " 'HyperGen, Inc.': 7,\n",
       " 'DRISHTICON': 7,\n",
       " 'Everest Consultants, Inc.': 7,\n",
       " 'Bluebeam Software, Inc.': 6,\n",
       " 'Eastridge Workforce Solutions': 6,\n",
       " 'iSpace, Inc': 6,\n",
       " 'DBA Web Technologies': 6,\n",
       " 'I.T. Solutions, Inc.': 6,\n",
       " 'John Muir Health': 6,\n",
       " 'Gunther Douglas, Inc.': 6,\n",
       " 'IT First Source': 6,\n",
       " 'E*Pro, Inc.': 6,\n",
       " 'Multivision, Inc.': 6,\n",
       " 'Data Based Development Systems': 6,\n",
       " 'Idhasoft': 6,\n",
       " 'Xceltrait Inc.': 6,\n",
       " 'CSC': 6,\n",
       " 'Alexander Technology Group': 6,\n",
       " 'Stefanini, Inc.': 6,\n",
       " 'The Kineta Group': 6,\n",
       " 'Black Diamond Networks': 6,\n",
       " 'Dell': 6,\n",
       " 'Connection': 6,\n",
       " 'Smart Staffing Services DBA Smart-Tek': 6,\n",
       " 'IDEXX Laboratories': 6,\n",
       " 'ComTec Information Systems': 6,\n",
       " 'BuzzClan LLC': 6,\n",
       " 'Kriya Software Solutions Inc': 6,\n",
       " 'SmartIMS Inc.': 6,\n",
       " 'SPECTRAFORCE TECHNOLOGIES Inc.': 6,\n",
       " 'Dextro Software Systems Inc.': 6,\n",
       " 'InfoTech Spectrum Inc': 6,\n",
       " 'Peningo Systems, Inc.': 6,\n",
       " 'Concept Software & Services, Inc.': 6,\n",
       " 'STA': 6,\n",
       " 'Global Data Consultants': 6,\n",
       " 'British Telecommunications Public Limited Company': 6,\n",
       " 'Oportun, Inc': 6,\n",
       " 'ConsultNet, LLC': 6,\n",
       " 'Maxsys Solutions, LLC': 6,\n",
       " 'Wise Men Consultants': 6,\n",
       " 'ABAL Technologies Inc': 6,\n",
       " 'Spectrum IT Global INC': 6,\n",
       " 'Crestron Electronics Inc': 6,\n",
       " 'DTSC, Inc.': 6,\n",
       " 'Eros Technologies Inc.': 6,\n",
       " '[24]7 Inc.': 6,\n",
       " 'Metro Systems Inc': 6,\n",
       " 'Bridget Morgan llc': 6,\n",
       " 'Patel Consultants Corp': 6,\n",
       " 'Bond Street Group': 6,\n",
       " 'NewConfig LLC': 6,\n",
       " 'Adept Solutions Inc': 6,\n",
       " 'IT America': 6,\n",
       " 'EPAM Systems': 6,\n",
       " 'Norgate Technology Inc': 6,\n",
       " 'C&G Consulting Services': 6,\n",
       " 'TechLink Systems, Inc.': 6,\n",
       " 'Pantheon': 6,\n",
       " 'Archer I.T., LLC': 6,\n",
       " 'Yablon & Associates': 6,\n",
       " 'CPS Recruitment': 6,\n",
       " 'Vcarve, Inc': 6,\n",
       " 'Oxyprime LLC': 6,\n",
       " 'GCS': 6,\n",
       " 'Source One Technical Solutions LLC': 6,\n",
       " 'Oakridge Staffing': 6,\n",
       " 'TMNA Services, LLC': 6,\n",
       " 'Silverlink Technologies': 6,\n",
       " 'Resource 1': 6,\n",
       " 'Twenty Recruitment Group': 6,\n",
       " 'NSD International, Inc.': 6,\n",
       " 'Benjamin Douglas Consulting LLC': 6,\n",
       " 'SCIITS': 6,\n",
       " 'essextec': 6,\n",
       " 'AnswerNet': 6,\n",
       " 'Signature Consultants': 6,\n",
       " 'Innovative Information Technologies, Inc': 6,\n",
       " 'Nu Info Systems Inc': 6,\n",
       " 'Evolution Staffing LLC': 6,\n",
       " 'SilverSearch, Inc.': 6,\n",
       " 'IT Resource Solutions.net, Inc.': 6,\n",
       " 'Symbiotic Consulting Group': 6,\n",
       " 'Yoh, A Day & Zimmermann Company': 6,\n",
       " 'Ramp Group': 6,\n",
       " 'Bourntec Solutions, Inc.': 6,\n",
       " 'Lenora Systems': 6,\n",
       " 'Ossia, Inc': 6,\n",
       " 'Adisys Corporation': 6,\n",
       " 'Okaya Inc': 6,\n",
       " 'Idexcel Inc.': 6,\n",
       " 'Urpan Technologies, Inc.': 6,\n",
       " 'RhythmOne': 6,\n",
       " 'Maxsam Partners': 6,\n",
       " 'Optima Technologies Inc': 6,\n",
       " '10115369': 6,\n",
       " 'Direct Technology': 6,\n",
       " 'Accelalpha': 6,\n",
       " 'Paradigm Group': 6,\n",
       " 'Saicon Consultants Inc.': 6,\n",
       " 'Nisum Technologies': 6,\n",
       " 'Reliant Tech, Inc.': 6,\n",
       " 'National Systems America, L.P.': 6,\n",
       " 'Accion Labs': 6,\n",
       " 'SEDC': 6,\n",
       " 'Acadia Technologies, Inc.': 6,\n",
       " 'Catapult Services LLC': 6,\n",
       " 'Datamatics Consultants, Inc.': 6,\n",
       " 'ProActive Resources, Inc': 6,\n",
       " 'Windward Consulting': 6,\n",
       " 'OSPRO Systems LLC': 6,\n",
       " 'LanceSoft Inc.': 6,\n",
       " 'Zillion Technologies': 6,\n",
       " 'Cognilytics': 6,\n",
       " 'The Royak Group Inc.': 6,\n",
       " 'enVista LLC': 6,\n",
       " 'Princeton IT Services, Inc': 6,\n",
       " 'Zar Technology Consulting': 6,\n",
       " 'ADG Tech Consulting': 6,\n",
       " 'Seven Hills Software Technologies': 6,\n",
       " 'Kyra Solutions': 6,\n",
       " 'Spinnaker Search Group LLC': 6,\n",
       " 'Blue Canopy Group LLC': 6,\n",
       " 'Tek Energy LLC.': 6,\n",
       " 'Bracket Global': 6,\n",
       " 'NSM Insurance Group': 6,\n",
       " 'Top Prospect Group': 6,\n",
       " 'Precision Technologies Corp': 6,\n",
       " 'Sigmaways, Inc.': 6,\n",
       " 'Apple Inc.': 6,\n",
       " 'Kellton Tech, Inc': 6,\n",
       " 'DKKD INC aka DKKD Staffing': 6,\n",
       " 'JVT Advisors': 6,\n",
       " 'ALTA IT Services': 6,\n",
       " 'Infoweb Systems, Inc.': 6,\n",
       " 'MSYS Inc.': 6,\n",
       " 'Beacon Hill Technologies': 6,\n",
       " 'Rich & Associates, Inc.': 6,\n",
       " 'Covetus, LLC': 6,\n",
       " 'InfoWays': 6,\n",
       " 'Synergy Computer Solutions': 6,\n",
       " 'The Judge Group, Inc.': 6,\n",
       " 'JobsPro Staffing': 6,\n",
       " 'Smart Synergies': 6,\n",
       " 'Valiantica, Inc': 6,\n",
       " 'NetPolarity Inc.': 6,\n",
       " 'Harris Corporation': 6,\n",
       " 'TVS Infotech Inc.': 6,\n",
       " 'Teqtron': 6,\n",
       " 'Saama Technologies, Inc.': 6,\n",
       " 'Engility': 6,\n",
       " 'Skyline ATS': 6,\n",
       " 'Zycron, Inc.': 6,\n",
       " 'Addastaff': 6,\n",
       " 'Skyrocket Ventures': 6,\n",
       " 'IAC Publishing': 6,\n",
       " 'K-Tek Resourcing LLC': 6,\n",
       " 'Debhunters': 6,\n",
       " 'Ogletree Deakins': 6,\n",
       " 'ITCO Solutions Corporation': 6,\n",
       " 'Q Data Inc': 6,\n",
       " 'Access Staffing Inc': 6,\n",
       " 'eQuest Solutions': 6,\n",
       " 'Pratt Brown & Associates': 6,\n",
       " 'Gorilla Logic, Inc.': 6,\n",
       " 'BrainTree Consulting Inc': 6,\n",
       " 'Vital Professional Services': 6,\n",
       " 'Mulesoft, Inc.': 6,\n",
       " 'ITaccel, Inc.': 6,\n",
       " 'JD Strategies': 6,\n",
       " 'Noble1': 5,\n",
       " 'Turnberry Solutions': 5,\n",
       " 'Tellus Solutions': 5,\n",
       " 'Akraya, Inc.': 5,\n",
       " 'MSRCosmos': 5,\n",
       " 'P. Murphy & Associates, Inc': 5,\n",
       " 'Redstream Technology': 5,\n",
       " 'New Age Software Services, Inc': 5,\n",
       " '3i Infotech Inc.': 5,\n",
       " 'Bivium Group': 5,\n",
       " 'Corporate Systems Associates': 5,\n",
       " 'Scadea Solutions Inc': 5,\n",
       " 'Bridge Technical Talent': 5,\n",
       " 'Cannon Search Partners': 5,\n",
       " 'VINFORMAX': 5,\n",
       " 'Zoom Technical Services, Inc.': 5,\n",
       " 'IT People Corporation': 5,\n",
       " 'IT Mantra': 5,\n",
       " 'BigR.io': 5,\n",
       " 'Softnice Inc': 5,\n",
       " 'SS & C Technologies Inc': 5,\n",
       " 'Encore Semi Inc': 5,\n",
       " 'athenahealth, Inc.': 5,\n",
       " 'VoiceGlance': 5,\n",
       " 'AQUA Information Systems, Inc.': 5,\n",
       " 'ITECH Analyst Corp': 5,\n",
       " 'Oracle Corporation': 5,\n",
       " 'Daley & Associates, LLC': 5,\n",
       " 'IBA Software Technologies': 5,\n",
       " 'TECH Projects': 5,\n",
       " 'Microexcel': 5,\n",
       " 'Data Exel': 5,\n",
       " 'Technology Resources Inc': 5,\n",
       " 'Mamsys': 5,\n",
       " 'Advantage': 5,\n",
       " 'Austin Fraser USA': 5,\n",
       " 'Sullivan and Cogliano': 5,\n",
       " 'ServeSolid, Inc': 5,\n",
       " 'J.E. Ranta Associates': 5,\n",
       " 'Corporate & Technical Recruiters, Inc': 5,\n",
       " 'Prudent Technologies and Consulting': 5,\n",
       " 'Eagle Investment Systems': 5,\n",
       " 'Enterprise Consulting Services Inc.': 5,\n",
       " 'Shimento, Inc.': 5,\n",
       " 'Texara Solutions': 5,\n",
       " 'Resource Spectrum': 5,\n",
       " 'Maintec Technologies Inc': 5,\n",
       " 'IT-Talent a Division of Tech Brains': 5,\n",
       " 'Millennium Infotech': 5,\n",
       " 'Nutech Systems, Inc.': 5,\n",
       " 'Fulcrum Worldwide': 5,\n",
       " 'VDX, Inc.': 5,\n",
       " 'Computer Consultants Interchange': 5,\n",
       " 'Blackstone Professional Recruiting': 5,\n",
       " 'SageOne Inc': 5,\n",
       " 'Apps IT LTD': 5,\n",
       " 'OneAPPS': 5,\n",
       " 'Auritas': 5,\n",
       " 'Samsung SDS America Inc': 5,\n",
       " 'ConsultAdd': 5,\n",
       " 'Castle Consulting': 5,\n",
       " 'Vandis Inc.': 5,\n",
       " 'IT Works Recruitment Inc': 5,\n",
       " 'Technomax LLC': 5,\n",
       " 'Infusion': 5,\n",
       " 'Harken Data Inc.': 5,\n",
       " 'Nihaki Systems, Inc.': 5,\n",
       " 'Resolve Tech Solutions (RTS)': 5,\n",
       " 'OpenSky Corp.': 5,\n",
       " 'Sonata Software North America': 5,\n",
       " 'Temple University Health System': 5,\n",
       " 'Aequor Technologies': 5,\n",
       " 'Outworx Corporation': 5,\n",
       " 'CCN-Mattson': 5,\n",
       " 'Hire Demand': 5,\n",
       " 'Pierce Technology Corporation': 5,\n",
       " 'Rayonsoft Technologies Inc': 5,\n",
       " 'Kani Solutions': 5,\n",
       " 'Silicon Staff Inc': 5,\n",
       " 'Mentor Graphics': 5,\n",
       " 'Business One Consulting': 5,\n",
       " 'Relevance Lab Inc.': 5,\n",
       " 'International Programming & Systems': 5,\n",
       " 'ZealTech, Inc.': 5,\n",
       " 'Synchronoss Technologies, Inc.': 5,\n",
       " 'Aditi Staffing LLC': 5,\n",
       " 'Peak Experience LLC': 5,\n",
       " 'QA Technologies Inc': 5,\n",
       " 'Corporate Biz Solutions Inc': 5,\n",
       " 'Assurity Staffing Group': 5,\n",
       " 'Akvelon, Inc.': 5,\n",
       " 'Neudesic': 5,\n",
       " 'Myriad Consulting Inc': 5,\n",
       " 'Chinasoft International': 5,\n",
       " 'Populus Group - Troy - HQ': 5,\n",
       " 'Parmesoft Inc.': 5,\n",
       " 'Smartek21': 5,\n",
       " 'Bridge Partners Consulting': 5,\n",
       " ...}"
      ]
     },
     "execution_count": 24,
     "metadata": {},
     "output_type": "execute_result"
    }
   ],
   "source": [
    "company_job_num"
   ]
  },
  {
   "cell_type": "code",
   "execution_count": 25,
   "metadata": {},
   "outputs": [
    {
     "data": {
      "text/plain": [
       "['CyberCoders',\n",
       " 'Amazon',\n",
       " 'Robert Half',\n",
       " 'Robert Half Technology',\n",
       " 'U.S. Tech Solutions Inc.',\n",
       " 'Collabera',\n",
       " 'Visionaire Partners',\n",
       " 'Kforce Inc.',\n",
       " 'The Judge Group',\n",
       " 'Apex Systems, Inc']"
      ]
     },
     "execution_count": 25,
     "metadata": {},
     "output_type": "execute_result"
    }
   ],
   "source": [
    "list(company_job_num.keys())[:10]"
   ]
  },
  {
   "cell_type": "code",
   "execution_count": 96,
   "metadata": {},
   "outputs": [
    {
     "data": {
      "text/plain": [
       "([<matplotlib.axis.YTick at 0x116862940>,\n",
       "  <matplotlib.axis.YTick at 0x116862278>,\n",
       "  <matplotlib.axis.YTick at 0x116838cf8>,\n",
       "  <matplotlib.axis.YTick at 0x1168dea58>,\n",
       "  <matplotlib.axis.YTick at 0x1168deef0>,\n",
       "  <matplotlib.axis.YTick at 0x1168d6470>,\n",
       "  <matplotlib.axis.YTick at 0x1168d69e8>,\n",
       "  <matplotlib.axis.YTick at 0x1168d6f60>,\n",
       "  <matplotlib.axis.YTick at 0x1168d6438>,\n",
       "  <matplotlib.axis.YTick at 0x1168cf518>],\n",
       " <a list of 10 Text yticklabel objects>)"
      ]
     },
     "execution_count": 96,
     "metadata": {},
     "output_type": "execute_result"
    },
    {
     "data": {
      "image/png": "[encoded data removed]",
      "text/plain": [
       "<Figure size 432x288 with 1 Axes>"
      ]
     },
     "metadata": {
      "needs_background": "light"
     },
     "output_type": "display_data"
    }
   ],
   "source": [
    "plt.barh(range(10), list(company_job_num.values())[:10])\n",
    "plt.yticks(range(10), list(company_job_num.keys())[:10])"
   ]
  },
  {
   "cell_type": "markdown",
   "metadata": {},
   "source": [
    "### 4. Among all the jobs, count the number of occurrence for each skill and list the top10 popular skills"
   ]
  },
  {
   "cell_type": "code",
   "execution_count": 55,
   "metadata": {},
   "outputs": [
    {
     "data": {
      "text/plain": [
       "list"
      ]
     },
     "execution_count": 55,
     "metadata": {},
     "output_type": "execute_result"
    }
   ],
   "source": [
    "type(list(df['python']))"
   ]
  },
  {
   "cell_type": "code",
   "execution_count": 85,
   "metadata": {},
   "outputs": [],
   "source": [
    "cols = df.columns\n",
    "skill_cols = list(cols[4:][:-2])"
   ]
  },
  {
   "cell_type": "code",
   "execution_count": 86,
   "metadata": {},
   "outputs": [
    {
     "data": {
      "text/plain": [
       "['python',\n",
       " 'scala',\n",
       " '.net',\n",
       " 'c#',\n",
       " 'matlab',\n",
       " 'simulink',\n",
       " 'linux',\n",
       " 'agile',\n",
       " 'ns3',\n",
       " 'opnet',\n",
       " 'snmp',\n",
       " 'rmon',\n",
       " 'wireshark',\n",
       " 'penetration testing',\n",
       " 'java',\n",
       " 'secure boot',\n",
       " 'tcp/ip',\n",
       " 'udp',\n",
       " 'javascript',\n",
       " 'mongodb',\n",
       " 'mysql',\n",
       " 'amazon web services',\n",
       " 'aws',\n",
       " 'oracle',\n",
       " 'redis',\n",
       " 'react',\n",
       " 'backbone',\n",
       " 'angular',\n",
       " 'google cloud platform',\n",
       " 'html',\n",
       " 'css',\n",
       " 'x86',\n",
       " 'powerpc',\n",
       " 'arm',\n",
       " 'device drivers',\n",
       " 'vmware esx',\n",
       " 'nosql',\n",
       " 'sql',\n",
       " 'bitbucket',\n",
       " 'confluence',\n",
       " 'jenkins',\n",
       " 'doxygen',\n",
       " 'communication',\n",
       " 'teamwork',\n",
       " 'dspace',\n",
       " 'vehiclespy',\n",
       " 'canalyzer',\n",
       " 'webgl',\n",
       " 'distributed',\n",
       " 'kafka',\n",
       " 'angularjs',\n",
       " 'mithrilinteractive',\n",
       " 'ui/ux',\n",
       " 'opengl',\n",
       " 'ios',\n",
       " 'android',\n",
       " 'julia',\n",
       " 'visualbasic',\n",
       " 'cobol',\n",
       " 'jira',\n",
       " 'gitlab',\n",
       " 'redux',\n",
       " 'express.js',\n",
       " 'django',\n",
       " 'celery',\n",
       " 'elasticsearch',\n",
       " 'ansible',\n",
       " 'rundeck',\n",
       " 'cicd',\n",
       " 'aws cli',\n",
       " 'svn',\n",
       " 'xcode',\n",
       " 'fastlane',\n",
       " 'devops',\n",
       " 'machine learning',\n",
       " 'cnn',\n",
       " 'azure paas',\n",
       " 't-sql',\n",
       " 'ado.net',\n",
       " 'xml',\n",
       " 'netsolid',\n",
       " 'css2',\n",
       " 'ms sql server',\n",
       " 'rest api',\n",
       " 'ruby on rails',\n",
       " 'rdbms',\n",
       " 'perl',\n",
       " 'concurrency',\n",
       " 'swift',\n",
       " 'junit',\n",
       " 'hadoop',\n",
       " 'accumulo',\n",
       " 'hbase',\n",
       " 'verilog',\n",
       " 'spark',\n",
       " 'maven',\n",
       " 'json',\n",
       " 'intellij',\n",
       " 'mariadb',\n",
       " 'docker',\n",
       " 'golang',\n",
       " 'robot os',\n",
       " 'go lang',\n",
       " 'arcsight',\n",
       " 'tripwire log center',\n",
       " 'unix',\n",
       " 'postgresql',\n",
       " 'ec2',\n",
       " 'ecs/ecr',\n",
       " 'graphql',\n",
       " 's3',\n",
       " 'c++',\n",
       " 'kubernetes',\n",
       " 'rabbitmq',\n",
       " 'puppet',\n",
       " 'chef',\n",
       " 'terraform',\n",
       " 'neo4j',\n",
       " 'cypher',\n",
       " 'git',\n",
       " 'oop',\n",
       " 'perforce',\n",
       " 'maya',\n",
       " 'blockchain',\n",
       " 'rust',\n",
       " 'haskell',\n",
       " 'erlang',\n",
       " 'clojure',\n",
       " 'html5']"
      ]
     },
     "execution_count": 86,
     "metadata": {},
     "output_type": "execute_result"
    }
   ],
   "source": [
    "skill_cols"
   ]
  },
  {
   "cell_type": "code",
   "execution_count": 91,
   "metadata": {},
   "outputs": [],
   "source": [
    "skill_sum_dict = dict()\n",
    "for skill_name in skill_cols:\n",
    "    s = 0\n",
    "    for e in list(df[skill_name]):\n",
    "        s += e\n",
    "    skill_sum_dict[skill_name] = s\n",
    "skill_sum_dict = dict(sorted(skill_sum_dict.items(), key=lambda item:item[1], reverse=True))"
   ]
  },
  {
   "cell_type": "code",
   "execution_count": 92,
   "metadata": {},
   "outputs": [
    {
     "data": {
      "text/plain": [
       "{'communication': 10499,\n",
       " 'sql': 6927,\n",
       " 'java': 6802,\n",
       " 'agile': 4140,\n",
       " 'scala': 3346,\n",
       " 'javascript': 3281,\n",
       " 'linux': 3225,\n",
       " 'oracle': 3045,\n",
       " 'html': 2964,\n",
       " '.net': 2722,\n",
       " 'git': 2589,\n",
       " 'css': 2341,\n",
       " 'python': 2130,\n",
       " 'unix': 2072,\n",
       " 'c#': 2033,\n",
       " 'aws': 1918,\n",
       " 'perl': 1905,\n",
       " 'ios': 1770,\n",
       " 'xml': 1678,\n",
       " 'oop': 1593,\n",
       " 'angular': 1539,\n",
       " 'distributed': 1441,\n",
       " 'arm': 1349,\n",
       " 'c++': 1324,\n",
       " 's3': 1087,\n",
       " 'html5': 1067,\n",
       " 'rust': 1012,\n",
       " 'mysql': 993,\n",
       " 'json': 956,\n",
       " 'hadoop': 883,\n",
       " 'devops': 863,\n",
       " 'jenkins': 809,\n",
       " 'nosql': 801,\n",
       " 'android': 749,\n",
       " 'tcp/ip': 748,\n",
       " 'angularjs': 726,\n",
       " 'jira': 655,\n",
       " 'react': 652,\n",
       " 'teamwork': 602,\n",
       " 'puppet': 530,\n",
       " 'chef': 522,\n",
       " 'maven': 494,\n",
       " 'spark': 475,\n",
       " 'mongodb': 458,\n",
       " 'rdbms': 443,\n",
       " 'junit': 419,\n",
       " 'docker': 395,\n",
       " 'backbone': 378,\n",
       " 'amazon web services': 369,\n",
       " 'svn': 346,\n",
       " 'ms sql server': 341,\n",
       " 'machine learning': 333,\n",
       " 't-sql': 324,\n",
       " 'ansible': 308,\n",
       " 'hbase': 303,\n",
       " 'rest api': 285,\n",
       " 'kafka': 278,\n",
       " 'redis': 260,\n",
       " 'ui/ux': 224,\n",
       " 'swift': 214,\n",
       " 'postgresql': 213,\n",
       " 'ec2': 211,\n",
       " 'confluence': 199,\n",
       " 'snmp': 158,\n",
       " 'matlab': 154,\n",
       " 'ruby on rails': 148,\n",
       " 'penetration testing': 145,\n",
       " 'elasticsearch': 142,\n",
       " 'rabbitmq': 127,\n",
       " 'wireshark': 124,\n",
       " 'cobol': 122,\n",
       " 'vmware esx': 119,\n",
       " 'udp': 108,\n",
       " 'django': 94,\n",
       " 'concurrency': 94,\n",
       " 'kubernetes': 89,\n",
       " 'intellij': 78,\n",
       " 'xcode': 69,\n",
       " 'ns3': 67,\n",
       " 'rmon': 67,\n",
       " 'perforce': 61,\n",
       " 'bitbucket': 60,\n",
       " 'ado.net': 57,\n",
       " 'x86': 52,\n",
       " 'opengl': 50,\n",
       " 'verilog': 48,\n",
       " 'golang': 47,\n",
       " 'arcsight': 46,\n",
       " 'redux': 41,\n",
       " 'clojure': 39,\n",
       " 'terraform': 35,\n",
       " 'device drivers': 33,\n",
       " 'erlang': 28,\n",
       " 'mariadb': 27,\n",
       " 'gitlab': 26,\n",
       " 'simulink': 22,\n",
       " 'maya': 21,\n",
       " 'cicd': 20,\n",
       " 'google cloud platform': 19,\n",
       " 'rundeck': 18,\n",
       " 'neo4j': 17,\n",
       " 'haskell': 14,\n",
       " 'graphql': 13,\n",
       " 'webgl': 12,\n",
       " 'accumulo': 12,\n",
       " 'opnet': 11,\n",
       " 'blockchain': 11,\n",
       " 'express.js': 9,\n",
       " 'css2': 9,\n",
       " 'celery': 7,\n",
       " 'julia': 6,\n",
       " 'azure paas': 6,\n",
       " 'aws cli': 5,\n",
       " 'cnn': 5,\n",
       " 'go lang': 4,\n",
       " 'secure boot': 3,\n",
       " 'powerpc': 3,\n",
       " 'canalyzer': 3,\n",
       " 'visualbasic': 2,\n",
       " 'doxygen': 1,\n",
       " 'dspace': 1,\n",
       " 'netsolid': 1,\n",
       " 'vehiclespy': 0,\n",
       " 'mithrilinteractive': 0,\n",
       " 'fastlane': 0,\n",
       " 'robot os': 0,\n",
       " 'tripwire log center': 0,\n",
       " 'ecs/ecr': 0,\n",
       " 'cypher': 0}"
      ]
     },
     "execution_count": 92,
     "metadata": {},
     "output_type": "execute_result"
    }
   ],
   "source": [
    "skill_sum_dict"
   ]
  },
  {
   "cell_type": "code",
   "execution_count": null,
   "metadata": {},
   "outputs": [],
   "source": []
  }
 ],
 "metadata": {
  "kernelspec": {
   "display_name": "Python 3",
   "language": "python",
   "name": "python3"
  },
  "language_info": {
   "codemirror_mode": {
    "name": "ipython",
    "version": 3
   },
   "file_extension": ".py",
   "mimetype": "text/x-python",
   "name": "python",
   "nbconvert_exporter": "python",
   "pygments_lexer": "ipython3",
   "version": "3.7.1"
  }
 },
 "nbformat": 4,
 "nbformat_minor": 2
}
