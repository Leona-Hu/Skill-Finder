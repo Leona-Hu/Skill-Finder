{
 "cells": [
  {
   "cell_type": "markdown",
   "metadata": {},
   "source": [
    "# Skill Finder Analysis\n",
    "\n",
    "The main problems we want to focus on:\n",
    "\n",
    "1. For each state, how many jobs are available (could create heat map if possible)\n",
    "\n",
    "2. For each state, list the top 5 cities with most jobs available.\n",
    "\n",
    "3. List 10 companies that offer most technology jobs (if use Kaggle dataset)\n",
    "\n",
    "4. Among all the jobs, count the number of occurrence for each skill and list the top10 popular skills\n",
    "\n",
    "5. For the five cites with most jobs, list the top5 popular skills (check whether the need for skills may vary among cities)\n",
    "\n",
    "6. The top five popular Database used\n",
    "\n",
    "7. For each education level, what’s the average years of experience needed.\n",
    "\n",
    "8. Based on the years of experience, compare the number of jobs available that needs YOE =0(New Grad), 1-4(Junior), >5(Senior).\n",
    "\n",
    "9. Compare whether skills needed for different job titles vary."
   ]
  },
  {
   "cell_type": "code",
   "execution_count": 1,
   "metadata": {},
   "outputs": [],
   "source": [
    "import numpy as np\n",
    "import pandas as pd"
   ]
  },
  {
   "cell_type": "code",
   "execution_count": 2,
   "metadata": {},
   "outputs": [],
   "source": [
    "SDEio = 'SoftwareEngineerData/outputSoftwareEngineer.xlsx'\n",
    "DSio = 'DataScientistData/outputDataScientist.xlsx'"
   ]
  },
  {
   "cell_type": "code",
   "execution_count": null,
   "metadata": {},
   "outputs": [],
   "source": []
  }
 ],
 "metadata": {
  "kernelspec": {
   "display_name": "Python 3",
   "language": "python",
   "name": "python3"
  },
  "language_info": {
   "codemirror_mode": {
    "name": "ipython",
    "version": 3
   },
   "file_extension": ".py",
   "mimetype": "text/x-python",
   "name": "python",
   "nbconvert_exporter": "python",
   "pygments_lexer": "ipython3",
   "version": "3.7.3"
  }
 },
 "nbformat": 4,
 "nbformat_minor": 2
}
